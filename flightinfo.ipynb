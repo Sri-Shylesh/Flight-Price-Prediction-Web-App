{
 "cells": [
  {
   "cell_type": "code",
   "execution_count": null,
   "metadata": {
    "id": "zIsk-uH7ivVL"
   },
   "outputs": [],
   "source": [
    "import pandas as pd\n",
    "import numpy as np\n",
    "import seaborn as sns\n",
    "import matplotlib.pyplot as plt\n"
   ]
  },
  {
   "cell_type": "code",
   "execution_count": null,
   "metadata": {
    "colab": {
     "base_uri": "https://localhost:8080/",
     "height": 279
    },
    "id": "HGI2j07pjGni",
    "outputId": "38cd15ec-c389-4711-a80a-669ae963ef10"
   },
   "outputs": [
    {
     "data": {
      "text/html": [
       "<div>\n",
       "<style scoped>\n",
       "    .dataframe tbody tr th:only-of-type {\n",
       "        vertical-align: middle;\n",
       "    }\n",
       "\n",
       "    .dataframe tbody tr th {\n",
       "        vertical-align: top;\n",
       "    }\n",
       "\n",
       "    .dataframe thead th {\n",
       "        text-align: right;\n",
       "    }\n",
       "</style>\n",
       "<table border=\"1\" class=\"dataframe\">\n",
       "  <thead>\n",
       "    <tr style=\"text-align: right;\">\n",
       "      <th></th>\n",
       "      <th>Airline</th>\n",
       "      <th>Date_of_Journey</th>\n",
       "      <th>Source</th>\n",
       "      <th>Destination</th>\n",
       "      <th>Route</th>\n",
       "      <th>Dep_Time</th>\n",
       "      <th>Arrival_Time</th>\n",
       "      <th>Duration</th>\n",
       "      <th>Total_Stops</th>\n",
       "      <th>Additional_Info</th>\n",
       "      <th>Price</th>\n",
       "    </tr>\n",
       "  </thead>\n",
       "  <tbody>\n",
       "    <tr>\n",
       "      <th>0</th>\n",
       "      <td>IndiGo</td>\n",
       "      <td>2019-03-24</td>\n",
       "      <td>Banglore</td>\n",
       "      <td>New Delhi</td>\n",
       "      <td>BLR → DEL</td>\n",
       "      <td>2021-03-11 22:20:00</td>\n",
       "      <td>01:10 22 Mar</td>\n",
       "      <td>2h 50m</td>\n",
       "      <td>non-stop</td>\n",
       "      <td>No info</td>\n",
       "      <td>3897</td>\n",
       "    </tr>\n",
       "    <tr>\n",
       "      <th>1</th>\n",
       "      <td>Air India</td>\n",
       "      <td>2019-01-05</td>\n",
       "      <td>Kolkata</td>\n",
       "      <td>Banglore</td>\n",
       "      <td>CCU → IXR → BBI → BLR</td>\n",
       "      <td>2021-03-11 05:50:00</td>\n",
       "      <td>13:15</td>\n",
       "      <td>7h 25m</td>\n",
       "      <td>2 stops</td>\n",
       "      <td>No info</td>\n",
       "      <td>7662</td>\n",
       "    </tr>\n",
       "    <tr>\n",
       "      <th>2</th>\n",
       "      <td>Jet Airways</td>\n",
       "      <td>2019-09-06</td>\n",
       "      <td>Delhi</td>\n",
       "      <td>Cochin</td>\n",
       "      <td>DEL → LKO → BOM → COK</td>\n",
       "      <td>2021-03-11 09:25:00</td>\n",
       "      <td>04:25 10 Jun</td>\n",
       "      <td>19h</td>\n",
       "      <td>2 stops</td>\n",
       "      <td>No info</td>\n",
       "      <td>13882</td>\n",
       "    </tr>\n",
       "    <tr>\n",
       "      <th>3</th>\n",
       "      <td>IndiGo</td>\n",
       "      <td>2019-12-05</td>\n",
       "      <td>Kolkata</td>\n",
       "      <td>Banglore</td>\n",
       "      <td>CCU → NAG → BLR</td>\n",
       "      <td>2021-03-11 18:05:00</td>\n",
       "      <td>23:30</td>\n",
       "      <td>5h 25m</td>\n",
       "      <td>1 stop</td>\n",
       "      <td>No info</td>\n",
       "      <td>6218</td>\n",
       "    </tr>\n",
       "    <tr>\n",
       "      <th>4</th>\n",
       "      <td>IndiGo</td>\n",
       "      <td>2019-01-03</td>\n",
       "      <td>Banglore</td>\n",
       "      <td>New Delhi</td>\n",
       "      <td>BLR → NAG → DEL</td>\n",
       "      <td>2021-03-11 16:50:00</td>\n",
       "      <td>21:35</td>\n",
       "      <td>4h 45m</td>\n",
       "      <td>1 stop</td>\n",
       "      <td>No info</td>\n",
       "      <td>13302</td>\n",
       "    </tr>\n",
       "  </tbody>\n",
       "</table>\n",
       "</div>"
      ],
      "text/plain": [
       "       Airline Date_of_Journey    Source  ... Total_Stops Additional_Info  Price\n",
       "0       IndiGo      2019-03-24  Banglore  ...    non-stop         No info   3897\n",
       "1    Air India      2019-01-05   Kolkata  ...     2 stops         No info   7662\n",
       "2  Jet Airways      2019-09-06     Delhi  ...     2 stops         No info  13882\n",
       "3       IndiGo      2019-12-05   Kolkata  ...      1 stop         No info   6218\n",
       "4       IndiGo      2019-01-03  Banglore  ...      1 stop         No info  13302\n",
       "\n",
       "[5 rows x 11 columns]"
      ]
     },
     "execution_count": 4,
     "metadata": {
      "tags": []
     },
     "output_type": "execute_result"
    }
   ],
   "source": [
    "df=pd.read_excel(\"fares.xlsx\",parse_dates=[\"Date_of_Journey\",\"Dep_Time\"])\n",
    "df.head()"
   ]
  },
  {
   "cell_type": "code",
   "execution_count": null,
   "metadata": {
    "colab": {
     "base_uri": "https://localhost:8080/"
    },
    "id": "LOqbyhypllCR",
    "outputId": "c50ac2df-8c78-4f26-e289-d9e38f59d3f3"
   },
   "outputs": [
    {
     "data": {
      "text/plain": [
       "array(['IndiGo', 'Air India', 'Jet Airways', 'SpiceJet',\n",
       "       'Multiple carriers', 'GoAir', 'Vistara', 'Air Asia',\n",
       "       'Vistara Premium economy', 'Jet Airways Business',\n",
       "       'Multiple carriers Premium economy', 'Trujet'], dtype=object)"
      ]
     },
     "execution_count": 5,
     "metadata": {
      "tags": []
     },
     "output_type": "execute_result"
    }
   ],
   "source": [
    "df[\"Airline\"].unique()"
   ]
  },
  {
   "cell_type": "code",
   "execution_count": null,
   "metadata": {
    "colab": {
     "base_uri": "https://localhost:8080/"
    },
    "id": "mSX17TsmnovA",
    "outputId": "4e97e928-2440-41bd-e190-dced68d4cebc"
   },
   "outputs": [
    {
     "data": {
      "text/plain": [
       "Jet Airways                          3849\n",
       "IndiGo                               2053\n",
       "Air India                            1752\n",
       "Multiple carriers                    1196\n",
       "SpiceJet                              818\n",
       "Vistara                               479\n",
       "Air Asia                              319\n",
       "GoAir                                 194\n",
       "Multiple carriers Premium economy      13\n",
       "Jet Airways Business                    6\n",
       "Vistara Premium economy                 3\n",
       "Trujet                                  1\n",
       "Name: Airline, dtype: int64"
      ]
     },
     "execution_count": 6,
     "metadata": {
      "tags": []
     },
     "output_type": "execute_result"
    }
   ],
   "source": [
    "df[\"Airline\"].value_counts()"
   ]
  },
  {
   "cell_type": "code",
   "execution_count": null,
   "metadata": {
    "colab": {
     "base_uri": "https://localhost:8080/"
    },
    "id": "wKiOEspKc2dM",
    "outputId": "470004e7-9f58-4c9a-bc09-74e58717e56f"
   },
   "outputs": [
    {
     "data": {
      "text/plain": [
       "(10683, 11)"
      ]
     },
     "execution_count": 7,
     "metadata": {
      "tags": []
     },
     "output_type": "execute_result"
    }
   ],
   "source": [
    "df.shape"
   ]
  },
  {
   "cell_type": "code",
   "execution_count": null,
   "metadata": {
    "id": "za6d_inmlr18"
   },
   "outputs": [],
   "source": [
    "import re"
   ]
  },
  {
   "cell_type": "code",
   "execution_count": null,
   "metadata": {
    "colab": {
     "base_uri": "https://localhost:8080/"
    },
    "id": "ECvISw_SgvVZ",
    "outputId": "7fef35ee-85e0-490e-b43c-e5888e12a972"
   },
   "outputs": [
    {
     "data": {
      "text/plain": [
       "['2', '3', '0']"
      ]
     },
     "execution_count": 9,
     "metadata": {
      "tags": []
     },
     "output_type": "execute_result"
    }
   ],
   "source": [
    "clr=\"2h 30m\"\n",
    "clr2=[]\n",
    "clr1=clr.strip()\n",
    "for w  in clr1:\n",
    " if w.isdigit():\n",
    "   clr2.append(w)\n",
    "clr2\n"
   ]
  },
  {
   "cell_type": "code",
   "execution_count": null,
   "metadata": {
    "colab": {
     "base_uri": "https://localhost:8080/"
    },
    "id": "UsqB_t3Lmhz6",
    "outputId": "38b63c9f-b00b-4a51-ff8d-27b1c361f97d"
   },
   "outputs": [
    {
     "data": {
      "text/plain": [
       "9000"
      ]
     },
     "execution_count": 10,
     "metadata": {
      "tags": []
     },
     "output_type": "execute_result"
    }
   ],
   "source": [
    "cl=\"2h 30m \"\n",
    "cl=cl.strip()\n",
    "clw=re.findall(r\"\\d+\",cl)\n",
    "clw=[int(i) for i in clw]\n",
    "clw[0]*60*60+clw[1]*60\n"
   ]
  },
  {
   "cell_type": "code",
   "execution_count": null,
   "metadata": {
    "id": "SP5jb2mnqtrb"
   },
   "outputs": [],
   "source": [
    "df1=df.copy()"
   ]
  },
  {
   "cell_type": "code",
   "execution_count": null,
   "metadata": {
    "id": "R1o2Yx2JfCSu"
   },
   "outputs": [],
   "source": [
    "def clean(x):\n",
    "  a=x.strip()\n",
    "  b=re.findall(r\"\\d+\",a)\n",
    "  c=[int(i) for i in b]\n",
    "  if len(c)==2:\n",
    "   d=c[0]*60*60+c[1]*60\n",
    "  else:\n",
    "   d=c[0]*60*60\n",
    "  return d"
   ]
  },
  {
   "cell_type": "code",
   "execution_count": null,
   "metadata": {
    "colab": {
     "base_uri": "https://localhost:8080/"
    },
    "id": "Vi4IHWteer2L",
    "outputId": "8efefed2-61bf-4a8e-ae5d-a55571795c92"
   },
   "outputs": [
    {
     "data": {
      "text/plain": [
       "0    10200\n",
       "1    26700\n",
       "2    68400\n",
       "3    19500\n",
       "4    17100\n",
       "Name: Duration, dtype: int64"
      ]
     },
     "execution_count": 13,
     "metadata": {
      "tags": []
     },
     "output_type": "execute_result"
    }
   ],
   "source": [
    "df1[\"Duration\"]=df1.Duration.apply(lambda x:clean(x))\n",
    "df1[\"Duration\"].head()"
   ]
  },
  {
   "cell_type": "code",
   "execution_count": null,
   "metadata": {
    "id": "TUr-hJREubVO"
   },
   "outputs": [],
   "source": [
    "df2=df1.copy()"
   ]
  },
  {
   "cell_type": "code",
   "execution_count": null,
   "metadata": {
    "id": "7jsoy6zKP9AK"
   },
   "outputs": [],
   "source": [
    "def create(cold):\n",
    "  doj=cold[0]\n",
    "  dept=cold[1]\n",
    "  tot=doj+dt.timedelta(seconds=dept.hour*3600+dept.minute*60)\n",
    "  return tot\n"
   ]
  },
  {
   "cell_type": "code",
   "execution_count": null,
   "metadata": {
    "id": "5ZFGeRg88I4Y"
   },
   "outputs": [],
   "source": [
    "import datetime as dt"
   ]
  },
  {
   "cell_type": "code",
   "execution_count": null,
   "metadata": {
    "id": "wAyc5eJ0Sb4r"
   },
   "outputs": [],
   "source": [
    "df2.Dep_Time=df2[[\"Date_of_Journey\",\"Dep_Time\"]].apply(create,axis=1)\n"
   ]
  },
  {
   "cell_type": "code",
   "execution_count": null,
   "metadata": {
    "colab": {
     "base_uri": "https://localhost:8080/"
    },
    "id": "8UKyUqR6U3S8",
    "outputId": "61e0548a-6426-4311-dd5f-1881648b996f"
   },
   "outputs": [
    {
     "data": {
      "text/plain": [
       "0   2019-03-24 22:20:00\n",
       "1   2019-01-05 05:50:00\n",
       "2   2019-09-06 09:25:00\n",
       "3   2019-12-05 18:05:00\n",
       "4   2019-01-03 16:50:00\n",
       "Name: Dep_Time, dtype: datetime64[ns]"
      ]
     },
     "execution_count": 18,
     "metadata": {
      "tags": []
     },
     "output_type": "execute_result"
    }
   ],
   "source": [
    "df2.Dep_Time.head()"
   ]
  },
  {
   "cell_type": "code",
   "execution_count": null,
   "metadata": {
    "id": "hYTmZnBpxX3U"
   },
   "outputs": [],
   "source": [
    "df3=df2.copy()"
   ]
  },
  {
   "cell_type": "code",
   "execution_count": null,
   "metadata": {
    "id": "kmUsBj6l0KX-"
   },
   "outputs": [],
   "source": [
    "def addition(cols):\n",
    "   dur=cols[0]+dt.timedelta(seconds=cols[1])\n",
    "   return dur\n",
    "\n",
    "  "
   ]
  },
  {
   "cell_type": "code",
   "execution_count": null,
   "metadata": {
    "colab": {
     "base_uri": "https://localhost:8080/"
    },
    "id": "Nf5SrIbpxbHt",
    "outputId": "7b4f037b-8f97-429e-e6a6-d431c77d1aa7"
   },
   "outputs": [
    {
     "data": {
      "text/plain": [
       "0   2019-03-25 01:10:00\n",
       "1   2019-01-05 13:15:00\n",
       "2   2019-09-07 04:25:00\n",
       "3   2019-12-05 23:30:00\n",
       "4   2019-01-03 21:35:00\n",
       "Name: Arrival_Time, dtype: datetime64[ns]"
      ]
     },
     "execution_count": 21,
     "metadata": {
      "tags": []
     },
     "output_type": "execute_result"
    }
   ],
   "source": [
    "df3.Arrival_Time=df2[[\"Dep_Time\",\"Duration\"]].apply(addition,axis=1)\n",
    "df3.Arrival_Time.head()"
   ]
  },
  {
   "cell_type": "code",
   "execution_count": null,
   "metadata": {
    "colab": {
     "base_uri": "https://localhost:8080/",
     "height": 195
    },
    "id": "mcpA0xbYxUc8",
    "outputId": "46b9f4ac-4f22-4726-9287-d49003f509a6"
   },
   "outputs": [
    {
     "data": {
      "text/html": [
       "<div>\n",
       "<style scoped>\n",
       "    .dataframe tbody tr th:only-of-type {\n",
       "        vertical-align: middle;\n",
       "    }\n",
       "\n",
       "    .dataframe tbody tr th {\n",
       "        vertical-align: top;\n",
       "    }\n",
       "\n",
       "    .dataframe thead th {\n",
       "        text-align: right;\n",
       "    }\n",
       "</style>\n",
       "<table border=\"1\" class=\"dataframe\">\n",
       "  <thead>\n",
       "    <tr style=\"text-align: right;\">\n",
       "      <th></th>\n",
       "      <th>Dep_Time</th>\n",
       "      <th>Duration</th>\n",
       "      <th>Arrival_Time</th>\n",
       "    </tr>\n",
       "  </thead>\n",
       "  <tbody>\n",
       "    <tr>\n",
       "      <th>0</th>\n",
       "      <td>2019-03-24 22:20:00</td>\n",
       "      <td>10200</td>\n",
       "      <td>2019-03-25 01:10:00</td>\n",
       "    </tr>\n",
       "    <tr>\n",
       "      <th>1</th>\n",
       "      <td>2019-01-05 05:50:00</td>\n",
       "      <td>26700</td>\n",
       "      <td>2019-01-05 13:15:00</td>\n",
       "    </tr>\n",
       "    <tr>\n",
       "      <th>2</th>\n",
       "      <td>2019-09-06 09:25:00</td>\n",
       "      <td>68400</td>\n",
       "      <td>2019-09-07 04:25:00</td>\n",
       "    </tr>\n",
       "    <tr>\n",
       "      <th>3</th>\n",
       "      <td>2019-12-05 18:05:00</td>\n",
       "      <td>19500</td>\n",
       "      <td>2019-12-05 23:30:00</td>\n",
       "    </tr>\n",
       "    <tr>\n",
       "      <th>4</th>\n",
       "      <td>2019-01-03 16:50:00</td>\n",
       "      <td>17100</td>\n",
       "      <td>2019-01-03 21:35:00</td>\n",
       "    </tr>\n",
       "  </tbody>\n",
       "</table>\n",
       "</div>"
      ],
      "text/plain": [
       "             Dep_Time  Duration        Arrival_Time\n",
       "0 2019-03-24 22:20:00     10200 2019-03-25 01:10:00\n",
       "1 2019-01-05 05:50:00     26700 2019-01-05 13:15:00\n",
       "2 2019-09-06 09:25:00     68400 2019-09-07 04:25:00\n",
       "3 2019-12-05 18:05:00     19500 2019-12-05 23:30:00\n",
       "4 2019-01-03 16:50:00     17100 2019-01-03 21:35:00"
      ]
     },
     "execution_count": 22,
     "metadata": {
      "tags": []
     },
     "output_type": "execute_result"
    }
   ],
   "source": [
    "df3[[\"Dep_Time\",\"Duration\",\"Arrival_Time\"]].head()"
   ]
  },
  {
   "cell_type": "code",
   "execution_count": null,
   "metadata": {
    "id": "_GkXgLqvM0lw"
   },
   "outputs": [],
   "source": [
    "df4=df3.copy()"
   ]
  },
  {
   "cell_type": "code",
   "execution_count": null,
   "metadata": {
    "colab": {
     "base_uri": "https://localhost:8080/"
    },
    "id": "1aYz2CftWGZ-",
    "outputId": "e7bae3bf-37e6-444c-f7d6-a0206b9c9d5d"
   },
   "outputs": [
    {
     "data": {
      "text/plain": [
       "0     2:50:00\n",
       "1     7:25:00\n",
       "2    19:00:00\n",
       "3     5:25:00\n",
       "4     4:45:00\n",
       "Name: Duration, dtype: object"
      ]
     },
     "execution_count": 24,
     "metadata": {
      "tags": []
     },
     "output_type": "execute_result"
    }
   ],
   "source": [
    "def convert(seconds): \n",
    "    seconds = seconds % (24 * 3600) \n",
    "    hour = seconds // 3600\n",
    "    seconds %= 3600\n",
    "    minutes = seconds // 60\n",
    "    seconds %= 60\n",
    "      \n",
    "    return \"%d:%02d:%02d\" % (hour, minutes, seconds) \n",
    "df4['Duration']=df4.Duration.apply(lambda x:convert(x))\n",
    "df4.Duration.head()"
   ]
  },
  {
   "cell_type": "code",
   "execution_count": null,
   "metadata": {
    "colab": {
     "base_uri": "https://localhost:8080/",
     "height": 279
    },
    "id": "CGRXxjopWYde",
    "outputId": "59ff1f48-f42d-4675-8732-dc121bb7ea78"
   },
   "outputs": [
    {
     "data": {
      "text/html": [
       "<div>\n",
       "<style scoped>\n",
       "    .dataframe tbody tr th:only-of-type {\n",
       "        vertical-align: middle;\n",
       "    }\n",
       "\n",
       "    .dataframe tbody tr th {\n",
       "        vertical-align: top;\n",
       "    }\n",
       "\n",
       "    .dataframe thead th {\n",
       "        text-align: right;\n",
       "    }\n",
       "</style>\n",
       "<table border=\"1\" class=\"dataframe\">\n",
       "  <thead>\n",
       "    <tr style=\"text-align: right;\">\n",
       "      <th></th>\n",
       "      <th>Airline</th>\n",
       "      <th>Date_of_Journey</th>\n",
       "      <th>Source</th>\n",
       "      <th>Destination</th>\n",
       "      <th>Route</th>\n",
       "      <th>Dep_Time</th>\n",
       "      <th>Arrival_Time</th>\n",
       "      <th>Duration</th>\n",
       "      <th>Total_Stops</th>\n",
       "      <th>Additional_Info</th>\n",
       "      <th>Price</th>\n",
       "    </tr>\n",
       "  </thead>\n",
       "  <tbody>\n",
       "    <tr>\n",
       "      <th>0</th>\n",
       "      <td>IndiGo</td>\n",
       "      <td>2019-03-24</td>\n",
       "      <td>Banglore</td>\n",
       "      <td>New Delhi</td>\n",
       "      <td>BLR → DEL</td>\n",
       "      <td>2019-03-24 22:20:00</td>\n",
       "      <td>2019-03-25 01:10:00</td>\n",
       "      <td>2:50:00</td>\n",
       "      <td>non-stop</td>\n",
       "      <td>No info</td>\n",
       "      <td>3897</td>\n",
       "    </tr>\n",
       "    <tr>\n",
       "      <th>1</th>\n",
       "      <td>Air India</td>\n",
       "      <td>2019-01-05</td>\n",
       "      <td>Kolkata</td>\n",
       "      <td>Banglore</td>\n",
       "      <td>CCU → IXR → BBI → BLR</td>\n",
       "      <td>2019-01-05 05:50:00</td>\n",
       "      <td>2019-01-05 13:15:00</td>\n",
       "      <td>7:25:00</td>\n",
       "      <td>2 stops</td>\n",
       "      <td>No info</td>\n",
       "      <td>7662</td>\n",
       "    </tr>\n",
       "    <tr>\n",
       "      <th>2</th>\n",
       "      <td>Jet Airways</td>\n",
       "      <td>2019-09-06</td>\n",
       "      <td>Delhi</td>\n",
       "      <td>Cochin</td>\n",
       "      <td>DEL → LKO → BOM → COK</td>\n",
       "      <td>2019-09-06 09:25:00</td>\n",
       "      <td>2019-09-07 04:25:00</td>\n",
       "      <td>19:00:00</td>\n",
       "      <td>2 stops</td>\n",
       "      <td>No info</td>\n",
       "      <td>13882</td>\n",
       "    </tr>\n",
       "    <tr>\n",
       "      <th>3</th>\n",
       "      <td>IndiGo</td>\n",
       "      <td>2019-12-05</td>\n",
       "      <td>Kolkata</td>\n",
       "      <td>Banglore</td>\n",
       "      <td>CCU → NAG → BLR</td>\n",
       "      <td>2019-12-05 18:05:00</td>\n",
       "      <td>2019-12-05 23:30:00</td>\n",
       "      <td>5:25:00</td>\n",
       "      <td>1 stop</td>\n",
       "      <td>No info</td>\n",
       "      <td>6218</td>\n",
       "    </tr>\n",
       "    <tr>\n",
       "      <th>4</th>\n",
       "      <td>IndiGo</td>\n",
       "      <td>2019-01-03</td>\n",
       "      <td>Banglore</td>\n",
       "      <td>New Delhi</td>\n",
       "      <td>BLR → NAG → DEL</td>\n",
       "      <td>2019-01-03 16:50:00</td>\n",
       "      <td>2019-01-03 21:35:00</td>\n",
       "      <td>4:45:00</td>\n",
       "      <td>1 stop</td>\n",
       "      <td>No info</td>\n",
       "      <td>13302</td>\n",
       "    </tr>\n",
       "  </tbody>\n",
       "</table>\n",
       "</div>"
      ],
      "text/plain": [
       "       Airline Date_of_Journey    Source  ... Total_Stops Additional_Info  Price\n",
       "0       IndiGo      2019-03-24  Banglore  ...    non-stop         No info   3897\n",
       "1    Air India      2019-01-05   Kolkata  ...     2 stops         No info   7662\n",
       "2  Jet Airways      2019-09-06     Delhi  ...     2 stops         No info  13882\n",
       "3       IndiGo      2019-12-05   Kolkata  ...      1 stop         No info   6218\n",
       "4       IndiGo      2019-01-03  Banglore  ...      1 stop         No info  13302\n",
       "\n",
       "[5 rows x 11 columns]"
      ]
     },
     "execution_count": 25,
     "metadata": {
      "tags": []
     },
     "output_type": "execute_result"
    }
   ],
   "source": [
    "df4.head()"
   ]
  },
  {
   "cell_type": "code",
   "execution_count": null,
   "metadata": {
    "colab": {
     "base_uri": "https://localhost:8080/"
    },
    "id": "apAaDVFnNyuD",
    "outputId": "4886e2ce-ad11-428d-95d7-0ad0f701d458"
   },
   "outputs": [
    {
     "data": {
      "text/plain": [
       "Airline                    object\n",
       "Date_of_Journey    datetime64[ns]\n",
       "Source                     object\n",
       "Destination                object\n",
       "Route                      object\n",
       "Dep_Time           datetime64[ns]\n",
       "Arrival_Time       datetime64[ns]\n",
       "Duration                   object\n",
       "Total_Stops                object\n",
       "Additional_Info            object\n",
       "Price                       int64\n",
       "dtype: object"
      ]
     },
     "execution_count": 26,
     "metadata": {
      "tags": []
     },
     "output_type": "execute_result"
    }
   ],
   "source": [
    "df4.dtypes"
   ]
  },
  {
   "cell_type": "code",
   "execution_count": null,
   "metadata": {
    "colab": {
     "base_uri": "https://localhost:8080/"
    },
    "id": "h-NkcFy0OAge",
    "outputId": "d18d8118-d317-4f05-d3f7-4b9dc487fab8"
   },
   "outputs": [
    {
     "data": {
      "text/plain": [
       "Airline            0\n",
       "Date_of_Journey    0\n",
       "Source             0\n",
       "Destination        0\n",
       "Route              1\n",
       "Dep_Time           0\n",
       "Arrival_Time       0\n",
       "Duration           0\n",
       "Total_Stops        1\n",
       "Additional_Info    0\n",
       "Price              0\n",
       "dtype: int64"
      ]
     },
     "execution_count": 27,
     "metadata": {
      "tags": []
     },
     "output_type": "execute_result"
    }
   ],
   "source": [
    "df4.isna().sum()"
   ]
  },
  {
   "cell_type": "code",
   "execution_count": null,
   "metadata": {
    "id": "KozzTDtxOH-x"
   },
   "outputs": [],
   "source": [
    "df4.dropna(axis=0,inplace=True)"
   ]
  },
  {
   "cell_type": "code",
   "execution_count": null,
   "metadata": {
    "colab": {
     "base_uri": "https://localhost:8080/"
    },
    "id": "opfcHbysOc_I",
    "outputId": "1d49b298-088e-4174-eb18-c2155425fa3f"
   },
   "outputs": [
    {
     "data": {
      "text/plain": [
       "Airline            0\n",
       "Date_of_Journey    0\n",
       "Source             0\n",
       "Destination        0\n",
       "Route              0\n",
       "Dep_Time           0\n",
       "Arrival_Time       0\n",
       "Duration           0\n",
       "Total_Stops        0\n",
       "Additional_Info    0\n",
       "Price              0\n",
       "dtype: int64"
      ]
     },
     "execution_count": 29,
     "metadata": {
      "tags": []
     },
     "output_type": "execute_result"
    }
   ],
   "source": [
    "df4.isna().sum()"
   ]
  },
  {
   "cell_type": "code",
   "execution_count": null,
   "metadata": {
    "id": "qSsH1Vw1OfxP"
   },
   "outputs": [],
   "source": [
    "df4.drop(\"Additional_Info\",axis=1,inplace=True)"
   ]
  },
  {
   "cell_type": "code",
   "execution_count": null,
   "metadata": {
    "colab": {
     "base_uri": "https://localhost:8080/",
     "height": 279
    },
    "id": "iTIbNq6cO9o3",
    "outputId": "933654a6-0de8-453b-b105-f4e4e7c19da8"
   },
   "outputs": [
    {
     "data": {
      "text/html": [
       "<div>\n",
       "<style scoped>\n",
       "    .dataframe tbody tr th:only-of-type {\n",
       "        vertical-align: middle;\n",
       "    }\n",
       "\n",
       "    .dataframe tbody tr th {\n",
       "        vertical-align: top;\n",
       "    }\n",
       "\n",
       "    .dataframe thead th {\n",
       "        text-align: right;\n",
       "    }\n",
       "</style>\n",
       "<table border=\"1\" class=\"dataframe\">\n",
       "  <thead>\n",
       "    <tr style=\"text-align: right;\">\n",
       "      <th></th>\n",
       "      <th>Airline</th>\n",
       "      <th>Date_of_Journey</th>\n",
       "      <th>Source</th>\n",
       "      <th>Destination</th>\n",
       "      <th>Route</th>\n",
       "      <th>Dep_Time</th>\n",
       "      <th>Arrival_Time</th>\n",
       "      <th>Duration</th>\n",
       "      <th>Total_Stops</th>\n",
       "      <th>Price</th>\n",
       "    </tr>\n",
       "  </thead>\n",
       "  <tbody>\n",
       "    <tr>\n",
       "      <th>0</th>\n",
       "      <td>IndiGo</td>\n",
       "      <td>2019-03-24</td>\n",
       "      <td>Banglore</td>\n",
       "      <td>New Delhi</td>\n",
       "      <td>BLR → DEL</td>\n",
       "      <td>2019-03-24 22:20:00</td>\n",
       "      <td>2019-03-25 01:10:00</td>\n",
       "      <td>2:50:00</td>\n",
       "      <td>non-stop</td>\n",
       "      <td>3897</td>\n",
       "    </tr>\n",
       "    <tr>\n",
       "      <th>1</th>\n",
       "      <td>Air India</td>\n",
       "      <td>2019-01-05</td>\n",
       "      <td>Kolkata</td>\n",
       "      <td>Banglore</td>\n",
       "      <td>CCU → IXR → BBI → BLR</td>\n",
       "      <td>2019-01-05 05:50:00</td>\n",
       "      <td>2019-01-05 13:15:00</td>\n",
       "      <td>7:25:00</td>\n",
       "      <td>2 stops</td>\n",
       "      <td>7662</td>\n",
       "    </tr>\n",
       "    <tr>\n",
       "      <th>2</th>\n",
       "      <td>Jet Airways</td>\n",
       "      <td>2019-09-06</td>\n",
       "      <td>Delhi</td>\n",
       "      <td>Cochin</td>\n",
       "      <td>DEL → LKO → BOM → COK</td>\n",
       "      <td>2019-09-06 09:25:00</td>\n",
       "      <td>2019-09-07 04:25:00</td>\n",
       "      <td>19:00:00</td>\n",
       "      <td>2 stops</td>\n",
       "      <td>13882</td>\n",
       "    </tr>\n",
       "    <tr>\n",
       "      <th>3</th>\n",
       "      <td>IndiGo</td>\n",
       "      <td>2019-12-05</td>\n",
       "      <td>Kolkata</td>\n",
       "      <td>Banglore</td>\n",
       "      <td>CCU → NAG → BLR</td>\n",
       "      <td>2019-12-05 18:05:00</td>\n",
       "      <td>2019-12-05 23:30:00</td>\n",
       "      <td>5:25:00</td>\n",
       "      <td>1 stop</td>\n",
       "      <td>6218</td>\n",
       "    </tr>\n",
       "    <tr>\n",
       "      <th>4</th>\n",
       "      <td>IndiGo</td>\n",
       "      <td>2019-01-03</td>\n",
       "      <td>Banglore</td>\n",
       "      <td>New Delhi</td>\n",
       "      <td>BLR → NAG → DEL</td>\n",
       "      <td>2019-01-03 16:50:00</td>\n",
       "      <td>2019-01-03 21:35:00</td>\n",
       "      <td>4:45:00</td>\n",
       "      <td>1 stop</td>\n",
       "      <td>13302</td>\n",
       "    </tr>\n",
       "  </tbody>\n",
       "</table>\n",
       "</div>"
      ],
      "text/plain": [
       "       Airline Date_of_Journey    Source  ...  Duration Total_Stops  Price\n",
       "0       IndiGo      2019-03-24  Banglore  ...   2:50:00    non-stop   3897\n",
       "1    Air India      2019-01-05   Kolkata  ...   7:25:00     2 stops   7662\n",
       "2  Jet Airways      2019-09-06     Delhi  ...  19:00:00     2 stops  13882\n",
       "3       IndiGo      2019-12-05   Kolkata  ...   5:25:00      1 stop   6218\n",
       "4       IndiGo      2019-01-03  Banglore  ...   4:45:00      1 stop  13302\n",
       "\n",
       "[5 rows x 10 columns]"
      ]
     },
     "execution_count": 31,
     "metadata": {
      "tags": []
     },
     "output_type": "execute_result"
    }
   ],
   "source": [
    "df4.head()"
   ]
  },
  {
   "cell_type": "code",
   "execution_count": null,
   "metadata": {
    "colab": {
     "base_uri": "https://localhost:8080/",
     "height": 35
    },
    "id": "nq61VDdNXGT2",
    "outputId": "ec9d3f07-469a-4a4a-9a9f-db0c352de7b0"
   },
   "outputs": [
    {
     "data": {
      "application/vnd.google.colaboratory.intrinsic+json": {
       "type": "string"
      },
      "text/plain": [
       "'Duration(h:m:s)'"
      ]
     },
     "execution_count": 32,
     "metadata": {
      "tags": []
     },
     "output_type": "execute_result"
    }
   ],
   "source": [
    "df4.rename(columns={\"Duration\":\"Duration(h:m:s)\"},inplace=True)\n",
    "df4.columns[7]"
   ]
  },
  {
   "cell_type": "code",
   "execution_count": null,
   "metadata": {
    "colab": {
     "base_uri": "https://localhost:8080/"
    },
    "id": "t8mWRmCBYm39",
    "outputId": "7a178d93-add7-42a4-d900-2aa0b5b45ddd"
   },
   "outputs": [
    {
     "data": {
      "text/plain": [
       "array(['non-stop', '2 stops', '1 stop', '3 stops', '4 stops'],\n",
       "      dtype=object)"
      ]
     },
     "execution_count": 33,
     "metadata": {
      "tags": []
     },
     "output_type": "execute_result"
    }
   ],
   "source": [
    "df4[\"Total_Stops\"].unique()"
   ]
  },
  {
   "cell_type": "code",
   "execution_count": null,
   "metadata": {
    "colab": {
     "base_uri": "https://localhost:8080/"
    },
    "id": "p07-67xmamBk",
    "outputId": "2567eaff-3a73-4f35-e6cd-ba0dda1e9447"
   },
   "outputs": [
    {
     "data": {
      "text/plain": [
       "array(['Banglore', 'Kolkata', 'Delhi', 'Chennai', 'Mumbai'], dtype=object)"
      ]
     },
     "execution_count": 34,
     "metadata": {
      "tags": []
     },
     "output_type": "execute_result"
    }
   ],
   "source": [
    "df4[\"Source\"].unique()"
   ]
  },
  {
   "cell_type": "code",
   "execution_count": null,
   "metadata": {
    "colab": {
     "base_uri": "https://localhost:8080/"
    },
    "id": "_3C_3xkIas-7",
    "outputId": "358df58a-ddb7-4b66-fe96-3f69c74c82a8"
   },
   "outputs": [
    {
     "data": {
      "text/plain": [
       "1 stop      5625\n",
       "non-stop    3491\n",
       "2 stops     1520\n",
       "3 stops       45\n",
       "4 stops        1\n",
       "Name: Total_Stops, dtype: int64"
      ]
     },
     "execution_count": 35,
     "metadata": {
      "tags": []
     },
     "output_type": "execute_result"
    }
   ],
   "source": [
    "df4[\"Total_Stops\"].value_counts()"
   ]
  },
  {
   "cell_type": "code",
   "execution_count": null,
   "metadata": {
    "colab": {
     "base_uri": "https://localhost:8080/",
     "height": 225
    },
    "id": "xJkTjmYoa9-o",
    "outputId": "5bba9215-8bb1-4d40-d03f-0562390487df"
   },
   "outputs": [
    {
     "data": {
      "text/html": [
       "<div>\n",
       "<style scoped>\n",
       "    .dataframe tbody tr th:only-of-type {\n",
       "        vertical-align: middle;\n",
       "    }\n",
       "\n",
       "    .dataframe tbody tr th {\n",
       "        vertical-align: top;\n",
       "    }\n",
       "\n",
       "    .dataframe thead th {\n",
       "        text-align: right;\n",
       "    }\n",
       "</style>\n",
       "<table border=\"1\" class=\"dataframe\">\n",
       "  <thead>\n",
       "    <tr style=\"text-align: right;\">\n",
       "      <th></th>\n",
       "      <th>Price</th>\n",
       "    </tr>\n",
       "    <tr>\n",
       "      <th>Source</th>\n",
       "      <th></th>\n",
       "    </tr>\n",
       "  </thead>\n",
       "  <tbody>\n",
       "    <tr>\n",
       "      <th>Delhi</th>\n",
       "      <td>10262</td>\n",
       "    </tr>\n",
       "    <tr>\n",
       "      <th>Kolkata</th>\n",
       "      <td>9345</td>\n",
       "    </tr>\n",
       "    <tr>\n",
       "      <th>Banglore</th>\n",
       "      <td>6121</td>\n",
       "    </tr>\n",
       "    <tr>\n",
       "      <th>Chennai</th>\n",
       "      <td>3850</td>\n",
       "    </tr>\n",
       "    <tr>\n",
       "      <th>Mumbai</th>\n",
       "      <td>3342</td>\n",
       "    </tr>\n",
       "  </tbody>\n",
       "</table>\n",
       "</div>"
      ],
      "text/plain": [
       "          Price\n",
       "Source         \n",
       "Delhi     10262\n",
       "Kolkata    9345\n",
       "Banglore   6121\n",
       "Chennai    3850\n",
       "Mumbai     3342"
      ]
     },
     "execution_count": 36,
     "metadata": {
      "tags": []
     },
     "output_type": "execute_result"
    }
   ],
   "source": [
    "df4.groupby(\"Source\")[[\"Price\"] ].median().sort_values(\"Price\",ascending=False)"
   ]
  },
  {
   "cell_type": "code",
   "execution_count": null,
   "metadata": {
    "colab": {
     "base_uri": "https://localhost:8080/"
    },
    "id": "a4KQwaaAiVki",
    "outputId": "6ad0e020-ce62-4ecd-ae32-348d96d2cc7b"
   },
   "outputs": [
    {
     "data": {
      "text/plain": [
       "array(['New Delhi', 'Banglore', 'Cochin', 'Kolkata', 'Delhi', 'Hyderabad'],\n",
       "      dtype=object)"
      ]
     },
     "execution_count": 37,
     "metadata": {
      "tags": []
     },
     "output_type": "execute_result"
    }
   ],
   "source": [
    "df4[\"Destination\"].unique()"
   ]
  },
  {
   "cell_type": "code",
   "execution_count": null,
   "metadata": {
    "colab": {
     "base_uri": "https://localhost:8080/",
     "height": 254
    },
    "id": "SyOWVmqDkPtY",
    "outputId": "15b2a5f3-71e0-47ee-b49e-544a33f6facd"
   },
   "outputs": [
    {
     "data": {
      "text/html": [
       "<div>\n",
       "<style scoped>\n",
       "    .dataframe tbody tr th:only-of-type {\n",
       "        vertical-align: middle;\n",
       "    }\n",
       "\n",
       "    .dataframe tbody tr th {\n",
       "        vertical-align: top;\n",
       "    }\n",
       "\n",
       "    .dataframe thead th {\n",
       "        text-align: right;\n",
       "    }\n",
       "</style>\n",
       "<table border=\"1\" class=\"dataframe\">\n",
       "  <thead>\n",
       "    <tr style=\"text-align: right;\">\n",
       "      <th></th>\n",
       "      <th>Price</th>\n",
       "    </tr>\n",
       "    <tr>\n",
       "      <th>Destination</th>\n",
       "      <th></th>\n",
       "    </tr>\n",
       "  </thead>\n",
       "  <tbody>\n",
       "    <tr>\n",
       "      <th>New Delhi</th>\n",
       "      <td>10898.5</td>\n",
       "    </tr>\n",
       "    <tr>\n",
       "      <th>Cochin</th>\n",
       "      <td>10262.0</td>\n",
       "    </tr>\n",
       "    <tr>\n",
       "      <th>Banglore</th>\n",
       "      <td>9345.0</td>\n",
       "    </tr>\n",
       "    <tr>\n",
       "      <th>Delhi</th>\n",
       "      <td>4823.0</td>\n",
       "    </tr>\n",
       "    <tr>\n",
       "      <th>Kolkata</th>\n",
       "      <td>3850.0</td>\n",
       "    </tr>\n",
       "    <tr>\n",
       "      <th>Hyderabad</th>\n",
       "      <td>3342.0</td>\n",
       "    </tr>\n",
       "  </tbody>\n",
       "</table>\n",
       "</div>"
      ],
      "text/plain": [
       "               Price\n",
       "Destination         \n",
       "New Delhi    10898.5\n",
       "Cochin       10262.0\n",
       "Banglore      9345.0\n",
       "Delhi         4823.0\n",
       "Kolkata       3850.0\n",
       "Hyderabad     3342.0"
      ]
     },
     "execution_count": 38,
     "metadata": {
      "tags": []
     },
     "output_type": "execute_result"
    }
   ],
   "source": [
    "df4.groupby(\"Destination\")[[\"Price\"] ].median().sort_values(\"Price\",ascending=False)"
   ]
  },
  {
   "cell_type": "code",
   "execution_count": null,
   "metadata": {
    "colab": {
     "base_uri": "https://localhost:8080/"
    },
    "id": "1Q_0qeeZkgsH",
    "outputId": "2b1076a4-ef52-4d6d-8fd4-787b6ca92670"
   },
   "outputs": [
    {
     "data": {
      "text/plain": [
       "Delhi       4536\n",
       "Kolkata     2871\n",
       "Banglore    2197\n",
       "Mumbai       697\n",
       "Chennai      381\n",
       "Name: Source, dtype: int64"
      ]
     },
     "execution_count": 39,
     "metadata": {
      "tags": []
     },
     "output_type": "execute_result"
    }
   ],
   "source": [
    "df4[\"Source\"].value_counts()"
   ]
  },
  {
   "cell_type": "code",
   "execution_count": null,
   "metadata": {
    "colab": {
     "base_uri": "https://localhost:8080/"
    },
    "id": "UddvkiOqlER2",
    "outputId": "02e9b4e6-da4d-410c-bd2e-0636b8b878c9"
   },
   "outputs": [
    {
     "data": {
      "text/plain": [
       "Cochin       4536\n",
       "Banglore     2871\n",
       "Delhi        1265\n",
       "New Delhi     932\n",
       "Hyderabad     697\n",
       "Kolkata       381\n",
       "Name: Destination, dtype: int64"
      ]
     },
     "execution_count": 40,
     "metadata": {
      "tags": []
     },
     "output_type": "execute_result"
    }
   ],
   "source": [
    "df4[\"Destination\"].value_counts()"
   ]
  },
  {
   "cell_type": "code",
   "execution_count": null,
   "metadata": {
    "id": "cY7bI5JwlU7T"
   },
   "outputs": [],
   "source": [
    "df5=df4.copy()"
   ]
  },
  {
   "cell_type": "code",
   "execution_count": null,
   "metadata": {
    "colab": {
     "base_uri": "https://localhost:8080/",
     "height": 195
    },
    "id": "yDPQ1y6uASC0",
    "outputId": "0c408b46-9094-4c45-b1b2-993d8dcc4692"
   },
   "outputs": [
    {
     "data": {
      "text/html": [
       "<div>\n",
       "<style scoped>\n",
       "    .dataframe tbody tr th:only-of-type {\n",
       "        vertical-align: middle;\n",
       "    }\n",
       "\n",
       "    .dataframe tbody tr th {\n",
       "        vertical-align: top;\n",
       "    }\n",
       "\n",
       "    .dataframe thead th {\n",
       "        text-align: right;\n",
       "    }\n",
       "</style>\n",
       "<table border=\"1\" class=\"dataframe\">\n",
       "  <thead>\n",
       "    <tr style=\"text-align: right;\">\n",
       "      <th></th>\n",
       "      <th>Airline</th>\n",
       "      <th>Source</th>\n",
       "      <th>Destination</th>\n",
       "      <th>Dep_Time</th>\n",
       "      <th>Arrival_Time</th>\n",
       "      <th>Duration(h:m:s)</th>\n",
       "      <th>Total_Stops</th>\n",
       "      <th>Price</th>\n",
       "    </tr>\n",
       "  </thead>\n",
       "  <tbody>\n",
       "    <tr>\n",
       "      <th>0</th>\n",
       "      <td>IndiGo</td>\n",
       "      <td>Banglore</td>\n",
       "      <td>New Delhi</td>\n",
       "      <td>2019-03-24 22:20:00</td>\n",
       "      <td>2019-03-25 01:10:00</td>\n",
       "      <td>2:50:00</td>\n",
       "      <td>non-stop</td>\n",
       "      <td>3897</td>\n",
       "    </tr>\n",
       "    <tr>\n",
       "      <th>1</th>\n",
       "      <td>Air India</td>\n",
       "      <td>Kolkata</td>\n",
       "      <td>Banglore</td>\n",
       "      <td>2019-01-05 05:50:00</td>\n",
       "      <td>2019-01-05 13:15:00</td>\n",
       "      <td>7:25:00</td>\n",
       "      <td>2 stops</td>\n",
       "      <td>7662</td>\n",
       "    </tr>\n",
       "    <tr>\n",
       "      <th>2</th>\n",
       "      <td>Jet Airways</td>\n",
       "      <td>Delhi</td>\n",
       "      <td>Cochin</td>\n",
       "      <td>2019-09-06 09:25:00</td>\n",
       "      <td>2019-09-07 04:25:00</td>\n",
       "      <td>19:00:00</td>\n",
       "      <td>2 stops</td>\n",
       "      <td>13882</td>\n",
       "    </tr>\n",
       "    <tr>\n",
       "      <th>3</th>\n",
       "      <td>IndiGo</td>\n",
       "      <td>Kolkata</td>\n",
       "      <td>Banglore</td>\n",
       "      <td>2019-12-05 18:05:00</td>\n",
       "      <td>2019-12-05 23:30:00</td>\n",
       "      <td>5:25:00</td>\n",
       "      <td>1 stop</td>\n",
       "      <td>6218</td>\n",
       "    </tr>\n",
       "    <tr>\n",
       "      <th>4</th>\n",
       "      <td>IndiGo</td>\n",
       "      <td>Banglore</td>\n",
       "      <td>New Delhi</td>\n",
       "      <td>2019-01-03 16:50:00</td>\n",
       "      <td>2019-01-03 21:35:00</td>\n",
       "      <td>4:45:00</td>\n",
       "      <td>1 stop</td>\n",
       "      <td>13302</td>\n",
       "    </tr>\n",
       "  </tbody>\n",
       "</table>\n",
       "</div>"
      ],
      "text/plain": [
       "       Airline    Source Destination  ... Duration(h:m:s) Total_Stops  Price\n",
       "0       IndiGo  Banglore   New Delhi  ...         2:50:00    non-stop   3897\n",
       "1    Air India   Kolkata    Banglore  ...         7:25:00     2 stops   7662\n",
       "2  Jet Airways     Delhi      Cochin  ...        19:00:00     2 stops  13882\n",
       "3       IndiGo   Kolkata    Banglore  ...         5:25:00      1 stop   6218\n",
       "4       IndiGo  Banglore   New Delhi  ...         4:45:00      1 stop  13302\n",
       "\n",
       "[5 rows x 8 columns]"
      ]
     },
     "execution_count": 42,
     "metadata": {
      "tags": []
     },
     "output_type": "execute_result"
    }
   ],
   "source": [
    "df5.drop([\"Date_of_Journey\",\"Route\"],axis=1,inplace=True)\n",
    "df5.head()"
   ]
  },
  {
   "cell_type": "code",
   "execution_count": null,
   "metadata": {
    "colab": {
     "base_uri": "https://localhost:8080/"
    },
    "id": "0ATDuxTkAzrF",
    "outputId": "a0232633-10de-49ed-e3fd-d9caa41953bb"
   },
   "outputs": [
    {
     "data": {
      "text/plain": [
       "0    22\n",
       "1     5\n",
       "2     9\n",
       "3    18\n",
       "4    16\n",
       "Name: Dep_hr, dtype: int64"
      ]
     },
     "execution_count": 43,
     "metadata": {
      "tags": []
     },
     "output_type": "execute_result"
    }
   ],
   "source": [
    "df5[\"Dep_hr\"]=df5.Dep_Time.apply(lambda x:x.hour)\n",
    "df5[\"Dep_hr\"].head()"
   ]
  },
  {
   "cell_type": "code",
   "execution_count": null,
   "metadata": {
    "colab": {
     "base_uri": "https://localhost:8080/"
    },
    "id": "o3UxEHKoBuP_",
    "outputId": "2ca97f28-931c-4c2b-a673-636c5405f432"
   },
   "outputs": [
    {
     "data": {
      "text/plain": [
       "0    20\n",
       "1    50\n",
       "2    25\n",
       "3     5\n",
       "4    50\n",
       "Name: Dep_min, dtype: int64"
      ]
     },
     "execution_count": 44,
     "metadata": {
      "tags": []
     },
     "output_type": "execute_result"
    }
   ],
   "source": [
    "df5[\"Dep_min\"]=df5.Dep_Time.apply(lambda x:x.minute)\n",
    "df5[\"Dep_min\"].head()"
   ]
  },
  {
   "cell_type": "code",
   "execution_count": null,
   "metadata": {
    "colab": {
     "base_uri": "https://localhost:8080/"
    },
    "id": "DJHeyZ2ZB486",
    "outputId": "3593bb54-4eca-4324-fe7f-e17e9f4bfc40"
   },
   "outputs": [
    {
     "data": {
      "text/plain": [
       "0    10\n",
       "1    15\n",
       "2    25\n",
       "3    30\n",
       "4    35\n",
       "Name: Arr_min, dtype: int64"
      ]
     },
     "execution_count": 45,
     "metadata": {
      "tags": []
     },
     "output_type": "execute_result"
    }
   ],
   "source": [
    "df5[\"Arr_min\"]=df5.Arrival_Time.apply(lambda x:x.minute)\n",
    "df5[\"Arr_min\"].head()"
   ]
  },
  {
   "cell_type": "code",
   "execution_count": null,
   "metadata": {
    "colab": {
     "base_uri": "https://localhost:8080/"
    },
    "id": "3pFuC0aaCK4c",
    "outputId": "250daf26-8b13-4b24-be12-45431ad22465"
   },
   "outputs": [
    {
     "data": {
      "text/plain": [
       "0     1\n",
       "1    13\n",
       "2     4\n",
       "3    23\n",
       "4    21\n",
       "Name: Arr_hr, dtype: int64"
      ]
     },
     "execution_count": 46,
     "metadata": {
      "tags": []
     },
     "output_type": "execute_result"
    }
   ],
   "source": [
    "df5[\"Arr_hr\"]=df5.Arrival_Time.apply(lambda x:x.hour)\n",
    "df5[\"Arr_hr\"].head()"
   ]
  },
  {
   "cell_type": "code",
   "execution_count": null,
   "metadata": {
    "colab": {
     "base_uri": "https://localhost:8080/"
    },
    "id": "_sx1nuhaC9ze",
    "outputId": "75b5ee4c-91ee-4a28-a1d0-8389287607e7"
   },
   "outputs": [
    {
     "data": {
      "text/plain": [
       "2"
      ]
     },
     "execution_count": 47,
     "metadata": {
      "tags": []
     },
     "output_type": "execute_result"
    }
   ],
   "source": [
    "int(10200/3600)"
   ]
  },
  {
   "cell_type": "code",
   "execution_count": null,
   "metadata": {
    "colab": {
     "base_uri": "https://localhost:8080/"
    },
    "id": "9F8Oh7ZfCRrE",
    "outputId": "e95ef702-bfdd-4c40-b5ab-3b7f4c576c2c"
   },
   "outputs": [
    {
     "data": {
      "text/plain": [
       "0     2\n",
       "1     7\n",
       "2    19\n",
       "3     5\n",
       "4     4\n",
       "Name: Dur_hr, dtype: int64"
      ]
     },
     "execution_count": 48,
     "metadata": {
      "tags": []
     },
     "output_type": "execute_result"
    }
   ],
   "source": [
    "df5[\"Dur_hr\"]=df2.Duration.apply(lambda x:int(x/3600))\n",
    "df5[\"Dur_hr\"].head()"
   ]
  },
  {
   "cell_type": "code",
   "execution_count": null,
   "metadata": {
    "colab": {
     "base_uri": "https://localhost:8080/"
    },
    "id": "Giau3vZLDUha",
    "outputId": "eb208480-4ebf-4a93-fd51-26c7f2d0b325"
   },
   "outputs": [
    {
     "data": {
      "text/plain": [
       "0    50.0\n",
       "1    25.0\n",
       "2     0.0\n",
       "3    25.0\n",
       "4    45.0\n",
       "Name: Dur_min, dtype: float64"
      ]
     },
     "execution_count": 49,
     "metadata": {
      "tags": []
     },
     "output_type": "execute_result"
    }
   ],
   "source": [
    "df5[\"Dur_min\"]=df2.Duration.apply(lambda x:(x-int(x/3600)*3600)/60)\n",
    "df5[\"Dur_min\"].head()"
   ]
  },
  {
   "cell_type": "code",
   "execution_count": null,
   "metadata": {
    "colab": {
     "base_uri": "https://localhost:8080/"
    },
    "id": "nRG4rKGDnYUj",
    "outputId": "42dd2e43-17ce-4a50-f1f0-91db55c5ecc7"
   },
   "outputs": [
    {
     "data": {
      "text/plain": [
       "0     3\n",
       "1     1\n",
       "2     9\n",
       "3    12\n",
       "4     1\n",
       "Name: Dep_mon, dtype: int64"
      ]
     },
     "execution_count": 50,
     "metadata": {
      "tags": []
     },
     "output_type": "execute_result"
    }
   ],
   "source": [
    "df5[\"Dep_mon\"]=df5.Dep_Time.apply(lambda x:x.month)\n",
    "df5[\"Dep_mon\"].head()"
   ]
  },
  {
   "cell_type": "code",
   "execution_count": null,
   "metadata": {
    "colab": {
     "base_uri": "https://localhost:8080/"
    },
    "id": "LiLCJOrRnsix",
    "outputId": "974a40e8-4e41-4236-c4c9-ed4c655ddb86"
   },
   "outputs": [
    {
     "data": {
      "text/plain": [
       "0    24\n",
       "1     5\n",
       "2     6\n",
       "3     5\n",
       "4     3\n",
       "Name: Dep_day, dtype: int64"
      ]
     },
     "execution_count": 51,
     "metadata": {
      "tags": []
     },
     "output_type": "execute_result"
    }
   ],
   "source": [
    "df5[\"Dep_day\"]=df5.Dep_Time.apply(lambda x:x.day)\n",
    "df5[\"Dep_day\"].head()"
   ]
  },
  {
   "cell_type": "code",
   "execution_count": null,
   "metadata": {
    "colab": {
     "base_uri": "https://localhost:8080/",
     "height": 383
    },
    "id": "sDJJ0ztUD7oF",
    "outputId": "425bf703-9248-4b05-972c-25a02e4724c6"
   },
   "outputs": [
    {
     "data": {
      "text/html": [
       "<div>\n",
       "<style scoped>\n",
       "    .dataframe tbody tr th:only-of-type {\n",
       "        vertical-align: middle;\n",
       "    }\n",
       "\n",
       "    .dataframe tbody tr th {\n",
       "        vertical-align: top;\n",
       "    }\n",
       "\n",
       "    .dataframe thead th {\n",
       "        text-align: right;\n",
       "    }\n",
       "</style>\n",
       "<table border=\"1\" class=\"dataframe\">\n",
       "  <thead>\n",
       "    <tr style=\"text-align: right;\">\n",
       "      <th></th>\n",
       "      <th>Airline</th>\n",
       "      <th>Source</th>\n",
       "      <th>Destination</th>\n",
       "      <th>Dep_Time</th>\n",
       "      <th>Arrival_Time</th>\n",
       "      <th>Duration(h:m:s)</th>\n",
       "      <th>Total_Stops</th>\n",
       "      <th>Price</th>\n",
       "      <th>Dep_hr</th>\n",
       "      <th>Dep_min</th>\n",
       "      <th>Arr_min</th>\n",
       "      <th>Arr_hr</th>\n",
       "      <th>Dur_hr</th>\n",
       "      <th>Dur_min</th>\n",
       "      <th>Dep_mon</th>\n",
       "      <th>Dep_day</th>\n",
       "    </tr>\n",
       "  </thead>\n",
       "  <tbody>\n",
       "    <tr>\n",
       "      <th>0</th>\n",
       "      <td>IndiGo</td>\n",
       "      <td>Banglore</td>\n",
       "      <td>New Delhi</td>\n",
       "      <td>2019-03-24 22:20:00</td>\n",
       "      <td>2019-03-25 01:10:00</td>\n",
       "      <td>2:50:00</td>\n",
       "      <td>non-stop</td>\n",
       "      <td>3897</td>\n",
       "      <td>22</td>\n",
       "      <td>20</td>\n",
       "      <td>10</td>\n",
       "      <td>1</td>\n",
       "      <td>2</td>\n",
       "      <td>50.0</td>\n",
       "      <td>3</td>\n",
       "      <td>24</td>\n",
       "    </tr>\n",
       "    <tr>\n",
       "      <th>1</th>\n",
       "      <td>Air India</td>\n",
       "      <td>Kolkata</td>\n",
       "      <td>Banglore</td>\n",
       "      <td>2019-01-05 05:50:00</td>\n",
       "      <td>2019-01-05 13:15:00</td>\n",
       "      <td>7:25:00</td>\n",
       "      <td>2 stops</td>\n",
       "      <td>7662</td>\n",
       "      <td>5</td>\n",
       "      <td>50</td>\n",
       "      <td>15</td>\n",
       "      <td>13</td>\n",
       "      <td>7</td>\n",
       "      <td>25.0</td>\n",
       "      <td>1</td>\n",
       "      <td>5</td>\n",
       "    </tr>\n",
       "    <tr>\n",
       "      <th>2</th>\n",
       "      <td>Jet Airways</td>\n",
       "      <td>Delhi</td>\n",
       "      <td>Cochin</td>\n",
       "      <td>2019-09-06 09:25:00</td>\n",
       "      <td>2019-09-07 04:25:00</td>\n",
       "      <td>19:00:00</td>\n",
       "      <td>2 stops</td>\n",
       "      <td>13882</td>\n",
       "      <td>9</td>\n",
       "      <td>25</td>\n",
       "      <td>25</td>\n",
       "      <td>4</td>\n",
       "      <td>19</td>\n",
       "      <td>0.0</td>\n",
       "      <td>9</td>\n",
       "      <td>6</td>\n",
       "    </tr>\n",
       "    <tr>\n",
       "      <th>3</th>\n",
       "      <td>IndiGo</td>\n",
       "      <td>Kolkata</td>\n",
       "      <td>Banglore</td>\n",
       "      <td>2019-12-05 18:05:00</td>\n",
       "      <td>2019-12-05 23:30:00</td>\n",
       "      <td>5:25:00</td>\n",
       "      <td>1 stop</td>\n",
       "      <td>6218</td>\n",
       "      <td>18</td>\n",
       "      <td>5</td>\n",
       "      <td>30</td>\n",
       "      <td>23</td>\n",
       "      <td>5</td>\n",
       "      <td>25.0</td>\n",
       "      <td>12</td>\n",
       "      <td>5</td>\n",
       "    </tr>\n",
       "    <tr>\n",
       "      <th>4</th>\n",
       "      <td>IndiGo</td>\n",
       "      <td>Banglore</td>\n",
       "      <td>New Delhi</td>\n",
       "      <td>2019-01-03 16:50:00</td>\n",
       "      <td>2019-01-03 21:35:00</td>\n",
       "      <td>4:45:00</td>\n",
       "      <td>1 stop</td>\n",
       "      <td>13302</td>\n",
       "      <td>16</td>\n",
       "      <td>50</td>\n",
       "      <td>35</td>\n",
       "      <td>21</td>\n",
       "      <td>4</td>\n",
       "      <td>45.0</td>\n",
       "      <td>1</td>\n",
       "      <td>3</td>\n",
       "    </tr>\n",
       "  </tbody>\n",
       "</table>\n",
       "</div>"
      ],
      "text/plain": [
       "       Airline    Source Destination  ... Dur_min Dep_mon Dep_day\n",
       "0       IndiGo  Banglore   New Delhi  ...    50.0       3      24\n",
       "1    Air India   Kolkata    Banglore  ...    25.0       1       5\n",
       "2  Jet Airways     Delhi      Cochin  ...     0.0       9       6\n",
       "3       IndiGo   Kolkata    Banglore  ...    25.0      12       5\n",
       "4       IndiGo  Banglore   New Delhi  ...    45.0       1       3\n",
       "\n",
       "[5 rows x 16 columns]"
      ]
     },
     "execution_count": 52,
     "metadata": {
      "tags": []
     },
     "output_type": "execute_result"
    }
   ],
   "source": [
    "df5.head()"
   ]
  },
  {
   "cell_type": "code",
   "execution_count": null,
   "metadata": {
    "id": "z4sAnqIGEGeh"
   },
   "outputs": [],
   "source": [
    "df6=df5.copy()"
   ]
  },
  {
   "cell_type": "code",
   "execution_count": null,
   "metadata": {
    "colab": {
     "base_uri": "https://localhost:8080/"
    },
    "id": "elKzajZ_K-EE",
    "outputId": "7834a825-0386-46b0-ceff-6add94f0dde2"
   },
   "outputs": [
    {
     "name": "stdout",
     "output_type": "stream",
     "text": [
      "Jet Airways                          3849\n",
      "IndiGo                               2053\n",
      "Air India                            1751\n",
      "Multiple carriers                    1196\n",
      "SpiceJet                              818\n",
      "Vistara                               479\n",
      "Air Asia                              319\n",
      "GoAir                                 194\n",
      "Multiple carriers Premium economy      13\n",
      "Jet Airways Business                    6\n",
      "Vistara Premium economy                 3\n",
      "Trujet                                  1\n",
      "Name: Airline, dtype: int64\n",
      "\n",
      " \n",
      "\n",
      "Delhi       4536\n",
      "Kolkata     2871\n",
      "Banglore    2197\n",
      "Mumbai       697\n",
      "Chennai      381\n",
      "Name: Source, dtype: int64\n",
      "\n",
      " \n",
      "\n",
      "Cochin       4536\n",
      "Banglore     2871\n",
      "Delhi        1265\n",
      "New Delhi     932\n",
      "Hyderabad     697\n",
      "Kolkata       381\n",
      "Name: Destination, dtype: int64\n",
      "\n",
      " \n",
      "\n",
      "1 stop      5625\n",
      "non-stop    3491\n",
      "2 stops     1520\n",
      "3 stops       45\n",
      "4 stops        1\n",
      "Name: Total_Stops, dtype: int64\n",
      "\n",
      " \n",
      "\n"
     ]
    }
   ],
   "source": [
    "for i in [\"Airline\",\"Source\",\"Destination\",\"Total_Stops\"]:\n",
    "  print(df6[i].value_counts())\n",
    "  print(\"\\n\",\"\\n\")"
   ]
  },
  {
   "cell_type": "code",
   "execution_count": null,
   "metadata": {
    "id": "EGFu93ISEI8C"
   },
   "outputs": [],
   "source": [
    "df6.drop([\"Dep_Time\",\"Arrival_Time\",\"Duration(h:m:s)\"],axis=1,inplace=True)"
   ]
  },
  {
   "cell_type": "code",
   "execution_count": null,
   "metadata": {
    "colab": {
     "base_uri": "https://localhost:8080/",
     "height": 195
    },
    "id": "zEeRdUvzEdOl",
    "outputId": "4162eb55-172a-4681-ee7f-c9a2b039a055"
   },
   "outputs": [
    {
     "data": {
      "text/html": [
       "<div>\n",
       "<style scoped>\n",
       "    .dataframe tbody tr th:only-of-type {\n",
       "        vertical-align: middle;\n",
       "    }\n",
       "\n",
       "    .dataframe tbody tr th {\n",
       "        vertical-align: top;\n",
       "    }\n",
       "\n",
       "    .dataframe thead th {\n",
       "        text-align: right;\n",
       "    }\n",
       "</style>\n",
       "<table border=\"1\" class=\"dataframe\">\n",
       "  <thead>\n",
       "    <tr style=\"text-align: right;\">\n",
       "      <th></th>\n",
       "      <th>Airline</th>\n",
       "      <th>Source</th>\n",
       "      <th>Destination</th>\n",
       "      <th>Total_Stops</th>\n",
       "      <th>Price</th>\n",
       "      <th>Dep_hr</th>\n",
       "      <th>Dep_min</th>\n",
       "      <th>Arr_min</th>\n",
       "      <th>Arr_hr</th>\n",
       "      <th>Dur_hr</th>\n",
       "      <th>Dur_min</th>\n",
       "      <th>Dep_mon</th>\n",
       "      <th>Dep_day</th>\n",
       "    </tr>\n",
       "  </thead>\n",
       "  <tbody>\n",
       "    <tr>\n",
       "      <th>0</th>\n",
       "      <td>IndiGo</td>\n",
       "      <td>Banglore</td>\n",
       "      <td>New Delhi</td>\n",
       "      <td>non-stop</td>\n",
       "      <td>3897</td>\n",
       "      <td>22</td>\n",
       "      <td>20</td>\n",
       "      <td>10</td>\n",
       "      <td>1</td>\n",
       "      <td>2</td>\n",
       "      <td>50.0</td>\n",
       "      <td>3</td>\n",
       "      <td>24</td>\n",
       "    </tr>\n",
       "    <tr>\n",
       "      <th>1</th>\n",
       "      <td>Air India</td>\n",
       "      <td>Kolkata</td>\n",
       "      <td>Banglore</td>\n",
       "      <td>2 stops</td>\n",
       "      <td>7662</td>\n",
       "      <td>5</td>\n",
       "      <td>50</td>\n",
       "      <td>15</td>\n",
       "      <td>13</td>\n",
       "      <td>7</td>\n",
       "      <td>25.0</td>\n",
       "      <td>1</td>\n",
       "      <td>5</td>\n",
       "    </tr>\n",
       "    <tr>\n",
       "      <th>2</th>\n",
       "      <td>Jet Airways</td>\n",
       "      <td>Delhi</td>\n",
       "      <td>Cochin</td>\n",
       "      <td>2 stops</td>\n",
       "      <td>13882</td>\n",
       "      <td>9</td>\n",
       "      <td>25</td>\n",
       "      <td>25</td>\n",
       "      <td>4</td>\n",
       "      <td>19</td>\n",
       "      <td>0.0</td>\n",
       "      <td>9</td>\n",
       "      <td>6</td>\n",
       "    </tr>\n",
       "    <tr>\n",
       "      <th>3</th>\n",
       "      <td>IndiGo</td>\n",
       "      <td>Kolkata</td>\n",
       "      <td>Banglore</td>\n",
       "      <td>1 stop</td>\n",
       "      <td>6218</td>\n",
       "      <td>18</td>\n",
       "      <td>5</td>\n",
       "      <td>30</td>\n",
       "      <td>23</td>\n",
       "      <td>5</td>\n",
       "      <td>25.0</td>\n",
       "      <td>12</td>\n",
       "      <td>5</td>\n",
       "    </tr>\n",
       "    <tr>\n",
       "      <th>4</th>\n",
       "      <td>IndiGo</td>\n",
       "      <td>Banglore</td>\n",
       "      <td>New Delhi</td>\n",
       "      <td>1 stop</td>\n",
       "      <td>13302</td>\n",
       "      <td>16</td>\n",
       "      <td>50</td>\n",
       "      <td>35</td>\n",
       "      <td>21</td>\n",
       "      <td>4</td>\n",
       "      <td>45.0</td>\n",
       "      <td>1</td>\n",
       "      <td>3</td>\n",
       "    </tr>\n",
       "  </tbody>\n",
       "</table>\n",
       "</div>"
      ],
      "text/plain": [
       "       Airline    Source Destination  ... Dur_min  Dep_mon  Dep_day\n",
       "0       IndiGo  Banglore   New Delhi  ...    50.0        3       24\n",
       "1    Air India   Kolkata    Banglore  ...    25.0        1        5\n",
       "2  Jet Airways     Delhi      Cochin  ...     0.0        9        6\n",
       "3       IndiGo   Kolkata    Banglore  ...    25.0       12        5\n",
       "4       IndiGo  Banglore   New Delhi  ...    45.0        1        3\n",
       "\n",
       "[5 rows x 13 columns]"
      ]
     },
     "execution_count": 55,
     "metadata": {
      "tags": []
     },
     "output_type": "execute_result"
    }
   ],
   "source": [
    "df6.head()"
   ]
  },
  {
   "cell_type": "code",
   "execution_count": null,
   "metadata": {
    "id": "LajFmXPTLwgH"
   },
   "outputs": [],
   "source": [
    "df6 = df6[df6.Airline != 'Multiple carriers Premium economy']\n",
    "df6 = df6[df6.Airline != 'Jet Airways Business']\n",
    "df6 = df6[df6.Airline != 'Vistara Premium economy']\n",
    "df6 = df6[df6.Airline != 'Trujet']"
   ]
  },
  {
   "cell_type": "code",
   "execution_count": null,
   "metadata": {
    "id": "XL80nXNkMaHv"
   },
   "outputs": [],
   "source": [
    "df6=df6[df6.Total_Stops != '4 stops']"
   ]
  },
  {
   "cell_type": "code",
   "execution_count": null,
   "metadata": {
    "colab": {
     "base_uri": "https://localhost:8080/",
     "height": 195
    },
    "id": "FwlgYtQDMNHs",
    "outputId": "cb8b55fd-9339-44a9-e30f-59e0c65aa69f"
   },
   "outputs": [
    {
     "data": {
      "text/html": [
       "<div>\n",
       "<style scoped>\n",
       "    .dataframe tbody tr th:only-of-type {\n",
       "        vertical-align: middle;\n",
       "    }\n",
       "\n",
       "    .dataframe tbody tr th {\n",
       "        vertical-align: top;\n",
       "    }\n",
       "\n",
       "    .dataframe thead th {\n",
       "        text-align: right;\n",
       "    }\n",
       "</style>\n",
       "<table border=\"1\" class=\"dataframe\">\n",
       "  <thead>\n",
       "    <tr style=\"text-align: right;\">\n",
       "      <th></th>\n",
       "      <th>Airline</th>\n",
       "      <th>Source</th>\n",
       "      <th>Destination</th>\n",
       "      <th>Total_Stops</th>\n",
       "      <th>Price</th>\n",
       "      <th>Dep_hr</th>\n",
       "      <th>Dep_min</th>\n",
       "      <th>Arr_min</th>\n",
       "      <th>Arr_hr</th>\n",
       "      <th>Dur_hr</th>\n",
       "      <th>Dur_min</th>\n",
       "      <th>Dep_mon</th>\n",
       "      <th>Dep_day</th>\n",
       "    </tr>\n",
       "  </thead>\n",
       "  <tbody>\n",
       "    <tr>\n",
       "      <th>0</th>\n",
       "      <td>IndiGo</td>\n",
       "      <td>Banglore</td>\n",
       "      <td>New Delhi</td>\n",
       "      <td>non-stop</td>\n",
       "      <td>3897</td>\n",
       "      <td>22</td>\n",
       "      <td>20</td>\n",
       "      <td>10</td>\n",
       "      <td>1</td>\n",
       "      <td>2</td>\n",
       "      <td>50.0</td>\n",
       "      <td>3</td>\n",
       "      <td>24</td>\n",
       "    </tr>\n",
       "    <tr>\n",
       "      <th>1</th>\n",
       "      <td>Air India</td>\n",
       "      <td>Kolkata</td>\n",
       "      <td>Banglore</td>\n",
       "      <td>2 stops</td>\n",
       "      <td>7662</td>\n",
       "      <td>5</td>\n",
       "      <td>50</td>\n",
       "      <td>15</td>\n",
       "      <td>13</td>\n",
       "      <td>7</td>\n",
       "      <td>25.0</td>\n",
       "      <td>1</td>\n",
       "      <td>5</td>\n",
       "    </tr>\n",
       "    <tr>\n",
       "      <th>2</th>\n",
       "      <td>Jet Airways</td>\n",
       "      <td>Delhi</td>\n",
       "      <td>Cochin</td>\n",
       "      <td>2 stops</td>\n",
       "      <td>13882</td>\n",
       "      <td>9</td>\n",
       "      <td>25</td>\n",
       "      <td>25</td>\n",
       "      <td>4</td>\n",
       "      <td>19</td>\n",
       "      <td>0.0</td>\n",
       "      <td>9</td>\n",
       "      <td>6</td>\n",
       "    </tr>\n",
       "    <tr>\n",
       "      <th>3</th>\n",
       "      <td>IndiGo</td>\n",
       "      <td>Kolkata</td>\n",
       "      <td>Banglore</td>\n",
       "      <td>1 stop</td>\n",
       "      <td>6218</td>\n",
       "      <td>18</td>\n",
       "      <td>5</td>\n",
       "      <td>30</td>\n",
       "      <td>23</td>\n",
       "      <td>5</td>\n",
       "      <td>25.0</td>\n",
       "      <td>12</td>\n",
       "      <td>5</td>\n",
       "    </tr>\n",
       "    <tr>\n",
       "      <th>4</th>\n",
       "      <td>IndiGo</td>\n",
       "      <td>Banglore</td>\n",
       "      <td>New Delhi</td>\n",
       "      <td>1 stop</td>\n",
       "      <td>13302</td>\n",
       "      <td>16</td>\n",
       "      <td>50</td>\n",
       "      <td>35</td>\n",
       "      <td>21</td>\n",
       "      <td>4</td>\n",
       "      <td>45.0</td>\n",
       "      <td>1</td>\n",
       "      <td>3</td>\n",
       "    </tr>\n",
       "  </tbody>\n",
       "</table>\n",
       "</div>"
      ],
      "text/plain": [
       "       Airline    Source Destination  ... Dur_min  Dep_mon  Dep_day\n",
       "0       IndiGo  Banglore   New Delhi  ...    50.0        3       24\n",
       "1    Air India   Kolkata    Banglore  ...    25.0        1        5\n",
       "2  Jet Airways     Delhi      Cochin  ...     0.0        9        6\n",
       "3       IndiGo   Kolkata    Banglore  ...    25.0       12        5\n",
       "4       IndiGo  Banglore   New Delhi  ...    45.0        1        3\n",
       "\n",
       "[5 rows x 13 columns]"
      ]
     },
     "execution_count": 58,
     "metadata": {
      "tags": []
     },
     "output_type": "execute_result"
    }
   ],
   "source": [
    "df6.head()"
   ]
  },
  {
   "cell_type": "code",
   "execution_count": null,
   "metadata": {
    "colab": {
     "base_uri": "https://localhost:8080/"
    },
    "id": "8ZgYnE5kMx6f",
    "outputId": "7b205d12-5616-4564-9f3f-25e57ced29ba"
   },
   "outputs": [
    {
     "data": {
      "text/plain": [
       "(10658, 13)"
      ]
     },
     "execution_count": 59,
     "metadata": {
      "tags": []
     },
     "output_type": "execute_result"
    }
   ],
   "source": [
    "df6.shape"
   ]
  },
  {
   "cell_type": "code",
   "execution_count": null,
   "metadata": {
    "id": "2dWyunfbF9IW"
   },
   "outputs": [],
   "source": [
    "from sklearn.preprocessing import LabelEncoder\n",
    "le=LabelEncoder()"
   ]
  },
  {
   "cell_type": "code",
   "execution_count": null,
   "metadata": {
    "colab": {
     "base_uri": "https://localhost:8080/"
    },
    "id": "ZVVGYrlTGERS",
    "outputId": "832b2d6b-c779-4c68-a8dc-92370b4ef0f2"
   },
   "outputs": [
    {
     "data": {
      "text/plain": [
       "0    3\n",
       "1    1\n",
       "2    4\n",
       "3    3\n",
       "4    3\n",
       "5    6\n",
       "6    4\n",
       "7    4\n",
       "8    4\n",
       "9    5\n",
       "Name: Airline, dtype: int64"
      ]
     },
     "execution_count": 60,
     "metadata": {
      "tags": []
     },
     "output_type": "execute_result"
    }
   ],
   "source": [
    "df6[\"Airline\"]=le.fit_transform(df6[\"Airline\"])\n",
    "df6[\"Airline\"].head(10)\n"
   ]
  },
  {
   "cell_type": "code",
   "execution_count": null,
   "metadata": {
    "id": "azgx1YiqG3J0"
   },
   "outputs": [],
   "source": [
    "for i in [\"Source\",\"Destination\",\"Total_Stops\"]:\n",
    "  le1=LabelEncoder()\n",
    "  df6[i]=le1.fit_transform(df6[i])"
   ]
  },
  {
   "cell_type": "code",
   "execution_count": null,
   "metadata": {
    "colab": {
     "base_uri": "https://localhost:8080/",
     "height": 195
    },
    "id": "sk-ab6iwIYLB",
    "outputId": "aab2cbaf-05d7-4d05-e434-62ecf9048b92"
   },
   "outputs": [
    {
     "data": {
      "text/html": [
       "<div>\n",
       "<style scoped>\n",
       "    .dataframe tbody tr th:only-of-type {\n",
       "        vertical-align: middle;\n",
       "    }\n",
       "\n",
       "    .dataframe tbody tr th {\n",
       "        vertical-align: top;\n",
       "    }\n",
       "\n",
       "    .dataframe thead th {\n",
       "        text-align: right;\n",
       "    }\n",
       "</style>\n",
       "<table border=\"1\" class=\"dataframe\">\n",
       "  <thead>\n",
       "    <tr style=\"text-align: right;\">\n",
       "      <th></th>\n",
       "      <th>Airline</th>\n",
       "      <th>Source</th>\n",
       "      <th>Destination</th>\n",
       "      <th>Total_Stops</th>\n",
       "      <th>Price</th>\n",
       "      <th>Dep_hr</th>\n",
       "      <th>Dep_min</th>\n",
       "      <th>Arr_min</th>\n",
       "      <th>Arr_hr</th>\n",
       "      <th>Dur_hr</th>\n",
       "      <th>Dur_min</th>\n",
       "      <th>Dep_mon</th>\n",
       "      <th>Dep_day</th>\n",
       "    </tr>\n",
       "  </thead>\n",
       "  <tbody>\n",
       "    <tr>\n",
       "      <th>0</th>\n",
       "      <td>3</td>\n",
       "      <td>0</td>\n",
       "      <td>5</td>\n",
       "      <td>3</td>\n",
       "      <td>3897</td>\n",
       "      <td>22</td>\n",
       "      <td>20</td>\n",
       "      <td>10</td>\n",
       "      <td>1</td>\n",
       "      <td>2</td>\n",
       "      <td>50.0</td>\n",
       "      <td>3</td>\n",
       "      <td>24</td>\n",
       "    </tr>\n",
       "    <tr>\n",
       "      <th>1</th>\n",
       "      <td>1</td>\n",
       "      <td>3</td>\n",
       "      <td>0</td>\n",
       "      <td>1</td>\n",
       "      <td>7662</td>\n",
       "      <td>5</td>\n",
       "      <td>50</td>\n",
       "      <td>15</td>\n",
       "      <td>13</td>\n",
       "      <td>7</td>\n",
       "      <td>25.0</td>\n",
       "      <td>1</td>\n",
       "      <td>5</td>\n",
       "    </tr>\n",
       "    <tr>\n",
       "      <th>2</th>\n",
       "      <td>4</td>\n",
       "      <td>2</td>\n",
       "      <td>1</td>\n",
       "      <td>1</td>\n",
       "      <td>13882</td>\n",
       "      <td>9</td>\n",
       "      <td>25</td>\n",
       "      <td>25</td>\n",
       "      <td>4</td>\n",
       "      <td>19</td>\n",
       "      <td>0.0</td>\n",
       "      <td>9</td>\n",
       "      <td>6</td>\n",
       "    </tr>\n",
       "    <tr>\n",
       "      <th>3</th>\n",
       "      <td>3</td>\n",
       "      <td>3</td>\n",
       "      <td>0</td>\n",
       "      <td>0</td>\n",
       "      <td>6218</td>\n",
       "      <td>18</td>\n",
       "      <td>5</td>\n",
       "      <td>30</td>\n",
       "      <td>23</td>\n",
       "      <td>5</td>\n",
       "      <td>25.0</td>\n",
       "      <td>12</td>\n",
       "      <td>5</td>\n",
       "    </tr>\n",
       "    <tr>\n",
       "      <th>4</th>\n",
       "      <td>3</td>\n",
       "      <td>0</td>\n",
       "      <td>5</td>\n",
       "      <td>0</td>\n",
       "      <td>13302</td>\n",
       "      <td>16</td>\n",
       "      <td>50</td>\n",
       "      <td>35</td>\n",
       "      <td>21</td>\n",
       "      <td>4</td>\n",
       "      <td>45.0</td>\n",
       "      <td>1</td>\n",
       "      <td>3</td>\n",
       "    </tr>\n",
       "  </tbody>\n",
       "</table>\n",
       "</div>"
      ],
      "text/plain": [
       "   Airline  Source  Destination  Total_Stops  ...  Dur_hr  Dur_min  Dep_mon  Dep_day\n",
       "0        3       0            5            3  ...       2     50.0        3       24\n",
       "1        1       3            0            1  ...       7     25.0        1        5\n",
       "2        4       2            1            1  ...      19      0.0        9        6\n",
       "3        3       3            0            0  ...       5     25.0       12        5\n",
       "4        3       0            5            0  ...       4     45.0        1        3\n",
       "\n",
       "[5 rows x 13 columns]"
      ]
     },
     "execution_count": 62,
     "metadata": {
      "tags": []
     },
     "output_type": "execute_result"
    }
   ],
   "source": [
    "df6.head()"
   ]
  },
  {
   "cell_type": "code",
   "execution_count": null,
   "metadata": {
    "id": "qPbvJO3keW-g"
   },
   "outputs": [],
   "source": [
    "df6.to_excel(\"modif.xlsx\",index=False)"
   ]
  },
  {
   "cell_type": "code",
   "execution_count": null,
   "metadata": {
    "id": "nwVnD6KyI46H"
   },
   "outputs": [],
   "source": [
    "df7=df6.copy()"
   ]
  },
  {
   "cell_type": "code",
   "execution_count": null,
   "metadata": {
    "id": "9u-yDbN2OKGH"
   },
   "outputs": [],
   "source": [
    "from sklearn.preprocessing import StandardScaler\n",
    "sc=StandardScaler()"
   ]
  },
  {
   "cell_type": "code",
   "execution_count": null,
   "metadata": {
    "id": "wbQqoAsSOugx"
   },
   "outputs": [],
   "source": [
    "for i in [\"Dep_hr\",\t\"Dep_min\",\t\"Arr_min\", \"Arr_hr\",\"Dur_hr\",\"Dur_min\",\"Dep_mon\",\"Dep_day\"]:\n",
    "  df7[i]=sc.fit_transform(df7[[i]])"
   ]
  },
  {
   "cell_type": "code",
   "execution_count": null,
   "metadata": {
    "colab": {
     "base_uri": "https://localhost:8080/",
     "height": 195
    },
    "id": "xCudZ_7nQSB6",
    "outputId": "9f1c63af-ab63-4cdb-ce68-4921c5c2997c"
   },
   "outputs": [
    {
     "data": {
      "text/html": [
       "<div>\n",
       "<style scoped>\n",
       "    .dataframe tbody tr th:only-of-type {\n",
       "        vertical-align: middle;\n",
       "    }\n",
       "\n",
       "    .dataframe tbody tr th {\n",
       "        vertical-align: top;\n",
       "    }\n",
       "\n",
       "    .dataframe thead th {\n",
       "        text-align: right;\n",
       "    }\n",
       "</style>\n",
       "<table border=\"1\" class=\"dataframe\">\n",
       "  <thead>\n",
       "    <tr style=\"text-align: right;\">\n",
       "      <th></th>\n",
       "      <th>Airline</th>\n",
       "      <th>Source</th>\n",
       "      <th>Destination</th>\n",
       "      <th>Total_Stops</th>\n",
       "      <th>Price</th>\n",
       "      <th>Dep_hr</th>\n",
       "      <th>Dep_min</th>\n",
       "      <th>Arr_min</th>\n",
       "      <th>Arr_hr</th>\n",
       "      <th>Dur_hr</th>\n",
       "      <th>Dur_min</th>\n",
       "      <th>Dep_mon</th>\n",
       "      <th>Dep_day</th>\n",
       "    </tr>\n",
       "  </thead>\n",
       "  <tbody>\n",
       "    <tr>\n",
       "      <th>0</th>\n",
       "      <td>3</td>\n",
       "      <td>0</td>\n",
       "      <td>5</td>\n",
       "      <td>3</td>\n",
       "      <td>3897</td>\n",
       "      <td>1.652887</td>\n",
       "      <td>-0.235134</td>\n",
       "      <td>-0.889600</td>\n",
       "      <td>-1.798565</td>\n",
       "      <td>-0.970662</td>\n",
       "      <td>1.278441</td>\n",
       "      <td>-0.850484</td>\n",
       "      <td>1.285605</td>\n",
       "    </tr>\n",
       "    <tr>\n",
       "      <th>1</th>\n",
       "      <td>1</td>\n",
       "      <td>3</td>\n",
       "      <td>0</td>\n",
       "      <td>1</td>\n",
       "      <td>7662</td>\n",
       "      <td>-1.304531</td>\n",
       "      <td>1.363965</td>\n",
       "      <td>-0.586691</td>\n",
       "      <td>-0.050450</td>\n",
       "      <td>-0.382358</td>\n",
       "      <td>-0.196513</td>\n",
       "      <td>-1.519966</td>\n",
       "      <td>-0.872723</td>\n",
       "    </tr>\n",
       "    <tr>\n",
       "      <th>2</th>\n",
       "      <td>4</td>\n",
       "      <td>2</td>\n",
       "      <td>1</td>\n",
       "      <td>1</td>\n",
       "      <td>13882</td>\n",
       "      <td>-0.608668</td>\n",
       "      <td>0.031383</td>\n",
       "      <td>0.019127</td>\n",
       "      <td>-1.361536</td>\n",
       "      <td>1.029569</td>\n",
       "      <td>-1.671467</td>\n",
       "      <td>1.157963</td>\n",
       "      <td>-0.759127</td>\n",
       "    </tr>\n",
       "    <tr>\n",
       "      <th>3</th>\n",
       "      <td>3</td>\n",
       "      <td>3</td>\n",
       "      <td>0</td>\n",
       "      <td>0</td>\n",
       "      <td>6218</td>\n",
       "      <td>0.957024</td>\n",
       "      <td>-1.034683</td>\n",
       "      <td>0.322036</td>\n",
       "      <td>1.406313</td>\n",
       "      <td>-0.617680</td>\n",
       "      <td>-0.196513</td>\n",
       "      <td>2.162187</td>\n",
       "      <td>-0.872723</td>\n",
       "    </tr>\n",
       "    <tr>\n",
       "      <th>4</th>\n",
       "      <td>3</td>\n",
       "      <td>0</td>\n",
       "      <td>5</td>\n",
       "      <td>0</td>\n",
       "      <td>13302</td>\n",
       "      <td>0.609092</td>\n",
       "      <td>1.363965</td>\n",
       "      <td>0.624945</td>\n",
       "      <td>1.114961</td>\n",
       "      <td>-0.735340</td>\n",
       "      <td>0.983450</td>\n",
       "      <td>-1.519966</td>\n",
       "      <td>-1.099916</td>\n",
       "    </tr>\n",
       "  </tbody>\n",
       "</table>\n",
       "</div>"
      ],
      "text/plain": [
       "   Airline  Source  Destination  ...   Dur_min   Dep_mon   Dep_day\n",
       "0        3       0            5  ...  1.278441 -0.850484  1.285605\n",
       "1        1       3            0  ... -0.196513 -1.519966 -0.872723\n",
       "2        4       2            1  ... -1.671467  1.157963 -0.759127\n",
       "3        3       3            0  ... -0.196513  2.162187 -0.872723\n",
       "4        3       0            5  ...  0.983450 -1.519966 -1.099916\n",
       "\n",
       "[5 rows x 13 columns]"
      ]
     },
     "execution_count": 67,
     "metadata": {
      "tags": []
     },
     "output_type": "execute_result"
    }
   ],
   "source": [
    "df7.head()"
   ]
  },
  {
   "cell_type": "code",
   "execution_count": null,
   "metadata": {
    "id": "K3im4SSkexwY"
   },
   "outputs": [],
   "source": [
    "df8=df7.copy()"
   ]
  },
  {
   "cell_type": "code",
   "execution_count": null,
   "metadata": {
    "colab": {
     "base_uri": "https://localhost:8080/",
     "height": 195
    },
    "id": "sYb6dlB6RAdC",
    "outputId": "c0bd19cb-ecda-45d8-d958-86fa01a0a933"
   },
   "outputs": [
    {
     "data": {
      "text/html": [
       "<div>\n",
       "<style scoped>\n",
       "    .dataframe tbody tr th:only-of-type {\n",
       "        vertical-align: middle;\n",
       "    }\n",
       "\n",
       "    .dataframe tbody tr th {\n",
       "        vertical-align: top;\n",
       "    }\n",
       "\n",
       "    .dataframe thead th {\n",
       "        text-align: right;\n",
       "    }\n",
       "</style>\n",
       "<table border=\"1\" class=\"dataframe\">\n",
       "  <thead>\n",
       "    <tr style=\"text-align: right;\">\n",
       "      <th></th>\n",
       "      <th>Price</th>\n",
       "    </tr>\n",
       "  </thead>\n",
       "  <tbody>\n",
       "    <tr>\n",
       "      <th>0</th>\n",
       "      <td>3897</td>\n",
       "    </tr>\n",
       "    <tr>\n",
       "      <th>1</th>\n",
       "      <td>7662</td>\n",
       "    </tr>\n",
       "    <tr>\n",
       "      <th>2</th>\n",
       "      <td>13882</td>\n",
       "    </tr>\n",
       "    <tr>\n",
       "      <th>3</th>\n",
       "      <td>6218</td>\n",
       "    </tr>\n",
       "    <tr>\n",
       "      <th>4</th>\n",
       "      <td>13302</td>\n",
       "    </tr>\n",
       "  </tbody>\n",
       "</table>\n",
       "</div>"
      ],
      "text/plain": [
       "   Price\n",
       "0   3897\n",
       "1   7662\n",
       "2  13882\n",
       "3   6218\n",
       "4  13302"
      ]
     },
     "execution_count": 69,
     "metadata": {
      "tags": []
     },
     "output_type": "execute_result"
    }
   ],
   "source": [
    "y=df8[[\"Price\"]]\n",
    "y.head()"
   ]
  },
  {
   "cell_type": "code",
   "execution_count": null,
   "metadata": {
    "id": "P3VUJqz7RIwU"
   },
   "outputs": [],
   "source": [
    "df8.drop(\"Price\",inplace=True,axis=1)"
   ]
  },
  {
   "cell_type": "code",
   "execution_count": null,
   "metadata": {
    "colab": {
     "base_uri": "https://localhost:8080/",
     "height": 195
    },
    "id": "vdHha7u2RQq4",
    "outputId": "437ecb20-86ee-4ee7-b227-727b573bccfd"
   },
   "outputs": [
    {
     "data": {
      "text/html": [
       "<div>\n",
       "<style scoped>\n",
       "    .dataframe tbody tr th:only-of-type {\n",
       "        vertical-align: middle;\n",
       "    }\n",
       "\n",
       "    .dataframe tbody tr th {\n",
       "        vertical-align: top;\n",
       "    }\n",
       "\n",
       "    .dataframe thead th {\n",
       "        text-align: right;\n",
       "    }\n",
       "</style>\n",
       "<table border=\"1\" class=\"dataframe\">\n",
       "  <thead>\n",
       "    <tr style=\"text-align: right;\">\n",
       "      <th></th>\n",
       "      <th>Airline</th>\n",
       "      <th>Source</th>\n",
       "      <th>Destination</th>\n",
       "      <th>Total_Stops</th>\n",
       "      <th>Dep_hr</th>\n",
       "      <th>Dep_min</th>\n",
       "      <th>Arr_min</th>\n",
       "      <th>Arr_hr</th>\n",
       "      <th>Dur_hr</th>\n",
       "      <th>Dur_min</th>\n",
       "      <th>Dep_mon</th>\n",
       "      <th>Dep_day</th>\n",
       "    </tr>\n",
       "  </thead>\n",
       "  <tbody>\n",
       "    <tr>\n",
       "      <th>0</th>\n",
       "      <td>3</td>\n",
       "      <td>0</td>\n",
       "      <td>5</td>\n",
       "      <td>3</td>\n",
       "      <td>1.652887</td>\n",
       "      <td>-0.235134</td>\n",
       "      <td>-0.889600</td>\n",
       "      <td>-1.798565</td>\n",
       "      <td>-0.970662</td>\n",
       "      <td>1.278441</td>\n",
       "      <td>-0.850484</td>\n",
       "      <td>1.285605</td>\n",
       "    </tr>\n",
       "    <tr>\n",
       "      <th>1</th>\n",
       "      <td>1</td>\n",
       "      <td>3</td>\n",
       "      <td>0</td>\n",
       "      <td>1</td>\n",
       "      <td>-1.304531</td>\n",
       "      <td>1.363965</td>\n",
       "      <td>-0.586691</td>\n",
       "      <td>-0.050450</td>\n",
       "      <td>-0.382358</td>\n",
       "      <td>-0.196513</td>\n",
       "      <td>-1.519966</td>\n",
       "      <td>-0.872723</td>\n",
       "    </tr>\n",
       "    <tr>\n",
       "      <th>2</th>\n",
       "      <td>4</td>\n",
       "      <td>2</td>\n",
       "      <td>1</td>\n",
       "      <td>1</td>\n",
       "      <td>-0.608668</td>\n",
       "      <td>0.031383</td>\n",
       "      <td>0.019127</td>\n",
       "      <td>-1.361536</td>\n",
       "      <td>1.029569</td>\n",
       "      <td>-1.671467</td>\n",
       "      <td>1.157963</td>\n",
       "      <td>-0.759127</td>\n",
       "    </tr>\n",
       "    <tr>\n",
       "      <th>3</th>\n",
       "      <td>3</td>\n",
       "      <td>3</td>\n",
       "      <td>0</td>\n",
       "      <td>0</td>\n",
       "      <td>0.957024</td>\n",
       "      <td>-1.034683</td>\n",
       "      <td>0.322036</td>\n",
       "      <td>1.406313</td>\n",
       "      <td>-0.617680</td>\n",
       "      <td>-0.196513</td>\n",
       "      <td>2.162187</td>\n",
       "      <td>-0.872723</td>\n",
       "    </tr>\n",
       "    <tr>\n",
       "      <th>4</th>\n",
       "      <td>3</td>\n",
       "      <td>0</td>\n",
       "      <td>5</td>\n",
       "      <td>0</td>\n",
       "      <td>0.609092</td>\n",
       "      <td>1.363965</td>\n",
       "      <td>0.624945</td>\n",
       "      <td>1.114961</td>\n",
       "      <td>-0.735340</td>\n",
       "      <td>0.983450</td>\n",
       "      <td>-1.519966</td>\n",
       "      <td>-1.099916</td>\n",
       "    </tr>\n",
       "  </tbody>\n",
       "</table>\n",
       "</div>"
      ],
      "text/plain": [
       "   Airline  Source  Destination  ...   Dur_min   Dep_mon   Dep_day\n",
       "0        3       0            5  ...  1.278441 -0.850484  1.285605\n",
       "1        1       3            0  ... -0.196513 -1.519966 -0.872723\n",
       "2        4       2            1  ... -1.671467  1.157963 -0.759127\n",
       "3        3       3            0  ... -0.196513  2.162187 -0.872723\n",
       "4        3       0            5  ...  0.983450 -1.519966 -1.099916\n",
       "\n",
       "[5 rows x 12 columns]"
      ]
     },
     "execution_count": 71,
     "metadata": {
      "tags": []
     },
     "output_type": "execute_result"
    }
   ],
   "source": [
    "df8.head()"
   ]
  },
  {
   "cell_type": "code",
   "execution_count": null,
   "metadata": {
    "id": "UFQ5lbWMRTFG"
   },
   "outputs": [],
   "source": [
    "x=df8"
   ]
  },
  {
   "cell_type": "code",
   "execution_count": null,
   "metadata": {
    "id": "JDXEFMRMRVsl"
   },
   "outputs": [],
   "source": [
    "from sklearn.model_selection import train_test_split"
   ]
  },
  {
   "cell_type": "code",
   "execution_count": null,
   "metadata": {
    "id": "ZBmQp6bXZL3s"
   },
   "outputs": [],
   "source": [
    "X_train,X_test,y_train,y_test=train_test_split(x,y,test_size=0.1,random_state=42)"
   ]
  },
  {
   "cell_type": "code",
   "execution_count": null,
   "metadata": {
    "id": "DJM4vJ5NZj4X"
   },
   "outputs": [],
   "source": [
    "from sklearn.ensemble import RandomForestRegressor"
   ]
  },
  {
   "cell_type": "code",
   "execution_count": null,
   "metadata": {
    "id": "aL2wvv4TaTJD"
   },
   "outputs": [],
   "source": [
    "from sklearn.metrics import accuracy_score"
   ]
  },
  {
   "cell_type": "code",
   "execution_count": null,
   "metadata": {
    "id": "_wd_Ea9ZZo60"
   },
   "outputs": [],
   "source": [
    "rf=RandomForestRegressor(n_estimators=160,min_samples_leaf=2,min_samples_split=3)"
   ]
  },
  {
   "cell_type": "code",
   "execution_count": null,
   "metadata": {
    "colab": {
     "base_uri": "https://localhost:8080/"
    },
    "id": "WW20XIujZsQk",
    "outputId": "c34ef0f3-de65-45ea-cfe2-7d7aa46fac2a"
   },
   "outputs": [
    {
     "name": "stderr",
     "output_type": "stream",
     "text": [
      "/usr/local/lib/python3.7/dist-packages/ipykernel_launcher.py:1: DataConversionWarning: A column-vector y was passed when a 1d array was expected. Please change the shape of y to (n_samples,), for example using ravel().\n",
      "  \"\"\"Entry point for launching an IPython kernel.\n"
     ]
    },
    {
     "data": {
      "text/plain": [
       "0.8406933466174544"
      ]
     },
     "execution_count": 78,
     "metadata": {
      "tags": []
     },
     "output_type": "execute_result"
    }
   ],
   "source": [
    "rf.fit(X_train,y_train)\n",
    "y_pred=rf.predict(X_test)\n",
    "rf.score(X_test,y_test)"
   ]
  },
  {
   "cell_type": "code",
   "execution_count": null,
   "metadata": {
    "colab": {
     "base_uri": "https://localhost:8080/",
     "height": 195
    },
    "id": "DfJlPBy-jcJh",
    "outputId": "2e477ff2-e6cc-4c1c-82dc-49f3196fe22a"
   },
   "outputs": [
    {
     "data": {
      "text/html": [
       "<div>\n",
       "<style scoped>\n",
       "    .dataframe tbody tr th:only-of-type {\n",
       "        vertical-align: middle;\n",
       "    }\n",
       "\n",
       "    .dataframe tbody tr th {\n",
       "        vertical-align: top;\n",
       "    }\n",
       "\n",
       "    .dataframe thead th {\n",
       "        text-align: right;\n",
       "    }\n",
       "</style>\n",
       "<table border=\"1\" class=\"dataframe\">\n",
       "  <thead>\n",
       "    <tr style=\"text-align: right;\">\n",
       "      <th></th>\n",
       "      <th>Airline</th>\n",
       "      <th>Source</th>\n",
       "      <th>Destination</th>\n",
       "      <th>Total_Stops</th>\n",
       "      <th>Dep_hr</th>\n",
       "      <th>Dep_min</th>\n",
       "      <th>Arr_min</th>\n",
       "      <th>Arr_hr</th>\n",
       "      <th>Dur_hr</th>\n",
       "      <th>Dur_min</th>\n",
       "      <th>Dep_mon</th>\n",
       "      <th>Dep_day</th>\n",
       "    </tr>\n",
       "  </thead>\n",
       "  <tbody>\n",
       "    <tr>\n",
       "      <th>0</th>\n",
       "      <td>3</td>\n",
       "      <td>0</td>\n",
       "      <td>5</td>\n",
       "      <td>3</td>\n",
       "      <td>1.652887</td>\n",
       "      <td>-0.235134</td>\n",
       "      <td>-0.889600</td>\n",
       "      <td>-1.798565</td>\n",
       "      <td>-0.970662</td>\n",
       "      <td>1.278441</td>\n",
       "      <td>-0.850484</td>\n",
       "      <td>1.285605</td>\n",
       "    </tr>\n",
       "    <tr>\n",
       "      <th>1</th>\n",
       "      <td>1</td>\n",
       "      <td>3</td>\n",
       "      <td>0</td>\n",
       "      <td>1</td>\n",
       "      <td>-1.304531</td>\n",
       "      <td>1.363965</td>\n",
       "      <td>-0.586691</td>\n",
       "      <td>-0.050450</td>\n",
       "      <td>-0.382358</td>\n",
       "      <td>-0.196513</td>\n",
       "      <td>-1.519966</td>\n",
       "      <td>-0.872723</td>\n",
       "    </tr>\n",
       "    <tr>\n",
       "      <th>2</th>\n",
       "      <td>4</td>\n",
       "      <td>2</td>\n",
       "      <td>1</td>\n",
       "      <td>1</td>\n",
       "      <td>-0.608668</td>\n",
       "      <td>0.031383</td>\n",
       "      <td>0.019127</td>\n",
       "      <td>-1.361536</td>\n",
       "      <td>1.029569</td>\n",
       "      <td>-1.671467</td>\n",
       "      <td>1.157963</td>\n",
       "      <td>-0.759127</td>\n",
       "    </tr>\n",
       "    <tr>\n",
       "      <th>3</th>\n",
       "      <td>3</td>\n",
       "      <td>3</td>\n",
       "      <td>0</td>\n",
       "      <td>0</td>\n",
       "      <td>0.957024</td>\n",
       "      <td>-1.034683</td>\n",
       "      <td>0.322036</td>\n",
       "      <td>1.406313</td>\n",
       "      <td>-0.617680</td>\n",
       "      <td>-0.196513</td>\n",
       "      <td>2.162187</td>\n",
       "      <td>-0.872723</td>\n",
       "    </tr>\n",
       "    <tr>\n",
       "      <th>4</th>\n",
       "      <td>3</td>\n",
       "      <td>0</td>\n",
       "      <td>5</td>\n",
       "      <td>0</td>\n",
       "      <td>0.609092</td>\n",
       "      <td>1.363965</td>\n",
       "      <td>0.624945</td>\n",
       "      <td>1.114961</td>\n",
       "      <td>-0.735340</td>\n",
       "      <td>0.983450</td>\n",
       "      <td>-1.519966</td>\n",
       "      <td>-1.099916</td>\n",
       "    </tr>\n",
       "  </tbody>\n",
       "</table>\n",
       "</div>"
      ],
      "text/plain": [
       "   Airline  Source  Destination  ...   Dur_min   Dep_mon   Dep_day\n",
       "0        3       0            5  ...  1.278441 -0.850484  1.285605\n",
       "1        1       3            0  ... -0.196513 -1.519966 -0.872723\n",
       "2        4       2            1  ... -1.671467  1.157963 -0.759127\n",
       "3        3       3            0  ... -0.196513  2.162187 -0.872723\n",
       "4        3       0            5  ...  0.983450 -1.519966 -1.099916\n",
       "\n",
       "[5 rows x 12 columns]"
      ]
     },
     "execution_count": 79,
     "metadata": {
      "tags": []
     },
     "output_type": "execute_result"
    }
   ],
   "source": [
    "df8.head()"
   ]
  },
  {
   "cell_type": "code",
   "execution_count": null,
   "metadata": {
    "colab": {
     "base_uri": "https://localhost:8080/"
    },
    "id": "UQU5KsukcFit",
    "outputId": "a1b841df-9886-444f-f4c0-f1e16b19cfce"
   },
   "outputs": [
    {
     "data": {
      "text/plain": [
       "0.925422721517848"
      ]
     },
     "execution_count": 80,
     "metadata": {
      "tags": []
     },
     "output_type": "execute_result"
    }
   ],
   "source": [
    "rf.score(X_train,y_train)"
   ]
  },
  {
   "cell_type": "code",
   "execution_count": null,
   "metadata": {
    "id": "e5AfPfxXccCc"
   },
   "outputs": [],
   "source": [
    "from sklearn.linear_model import Ridge,LinearRegression,Lasso"
   ]
  },
  {
   "cell_type": "code",
   "execution_count": null,
   "metadata": {
    "colab": {
     "base_uri": "https://localhost:8080/"
    },
    "id": "Rg6O0NX4chdk",
    "outputId": "192581c5-f732-4273-940b-12d56ccf0546"
   },
   "outputs": [
    {
     "data": {
      "text/plain": [
       "0.46583060817156674"
      ]
     },
     "execution_count": 82,
     "metadata": {
      "tags": []
     },
     "output_type": "execute_result"
    }
   ],
   "source": [
    "rr=Ridge()\n",
    "rr.fit(X_train,y_train)\n",
    "rr.score(X_test,y_test)"
   ]
  },
  {
   "cell_type": "code",
   "execution_count": null,
   "metadata": {
    "colab": {
     "base_uri": "https://localhost:8080/"
    },
    "id": "iqni6YGIcnc0",
    "outputId": "ee55b04b-b452-449b-c64f-f2374d87c359"
   },
   "outputs": [
    {
     "data": {
      "text/plain": [
       "0.4658431749723531"
      ]
     },
     "execution_count": 83,
     "metadata": {
      "tags": []
     },
     "output_type": "execute_result"
    }
   ],
   "source": [
    "rl=Lasso()\n",
    "rl.fit(X_train,y_train)\n",
    "rl.score(X_test,y_test)"
   ]
  },
  {
   "cell_type": "code",
   "execution_count": null,
   "metadata": {
    "colab": {
     "base_uri": "https://localhost:8080/"
    },
    "id": "YsfW9nLad9Fr",
    "outputId": "fc850a7b-7133-4348-e2cb-004a89472e70"
   },
   "outputs": [
    {
     "data": {
      "text/plain": [
       "0.46583136321610563"
      ]
     },
     "execution_count": 84,
     "metadata": {
      "tags": []
     },
     "output_type": "execute_result"
    }
   ],
   "source": [
    "lr=LinearRegression()\n",
    "lr.fit(X_train,y_train)\n",
    "lr.score(X_test,y_test)"
   ]
  },
  {
   "cell_type": "code",
   "execution_count": null,
   "metadata": {
    "id": "Alu2UHp1eUBI"
   },
   "outputs": [],
   "source": [
    "import xgboost as xgb"
   ]
  },
  {
   "cell_type": "code",
   "execution_count": null,
   "metadata": {
    "colab": {
     "base_uri": "https://localhost:8080/"
    },
    "id": "cX_PPk5reZ3F",
    "outputId": "8d7d777b-ce61-41c6-bbb3-4fac43924fff"
   },
   "outputs": [
    {
     "name": "stdout",
     "output_type": "stream",
     "text": [
      "[14:16:26] WARNING: /workspace/src/objective/regression_obj.cu:152: reg:linear is now deprecated in favor of reg:squarederror.\n"
     ]
    },
    {
     "data": {
      "text/plain": [
       "0.7924563496241086"
      ]
     },
     "execution_count": 86,
     "metadata": {
      "tags": []
     },
     "output_type": "execute_result"
    }
   ],
   "source": [
    "xg=xgb.XGBRegressor()\n",
    "xg.fit(X_train,y_train)\n",
    "xg.score(X_test,y_test)"
   ]
  },
  {
   "cell_type": "code",
   "execution_count": null,
   "metadata": {
    "id": "tXAW1CL0lb0t"
   },
   "outputs": [],
   "source": [
    "from sklearn.ensemble import ExtraTreesRegressor"
   ]
  },
  {
   "cell_type": "code",
   "execution_count": null,
   "metadata": {
    "colab": {
     "base_uri": "https://localhost:8080/"
    },
    "id": "us-Jh6-dlfua",
    "outputId": "c6350f8a-61ad-434d-c821-35a346f50a3b"
   },
   "outputs": [
    {
     "name": "stderr",
     "output_type": "stream",
     "text": [
      "/usr/local/lib/python3.7/dist-packages/ipykernel_launcher.py:2: DataConversionWarning: A column-vector y was passed when a 1d array was expected. Please change the shape of y to (n_samples,), for example using ravel().\n",
      "  \n"
     ]
    },
    {
     "name": "stdout",
     "output_type": "stream",
     "text": [
      "0.7932871084338331\n",
      "0.9647778216048939\n"
     ]
    }
   ],
   "source": [
    "et=ExtraTreesRegressor()\n",
    "et.fit(X_train,y_train)\n",
    "print(et.score(X_test,y_test))\n",
    "print(et.score(X_train,y_train))"
   ]
  },
  {
   "cell_type": "code",
   "execution_count": null,
   "metadata": {
    "colab": {
     "base_uri": "https://localhost:8080/"
    },
    "id": "cOZ9ZgiIm38k",
    "outputId": "9094b44a-3439-4bd8-825c-3102cdf210db"
   },
   "outputs": [
    {
     "data": {
      "text/plain": [
       "Airline        0\n",
       "Source         0\n",
       "Destination    0\n",
       "Total_Stops    0\n",
       "Dep_hr         0\n",
       "Dep_min        0\n",
       "Arr_min        0\n",
       "Arr_hr         0\n",
       "Dur_hr         0\n",
       "Dur_min        0\n",
       "Dep_mon        0\n",
       "Dep_day        0\n",
       "dtype: int64"
      ]
     },
     "execution_count": 89,
     "metadata": {
      "tags": []
     },
     "output_type": "execute_result"
    }
   ],
   "source": [
    "df8.isna().sum()"
   ]
  },
  {
   "cell_type": "code",
   "execution_count": null,
   "metadata": {
    "id": "1AvhHWHlqC30"
   },
   "outputs": [],
   "source": [
    "df7.to_csv(\"modifared.csv\",index=False)"
   ]
  }
 ],
 "metadata": {
  "colab": {
   "collapsed_sections": [],
   "name": "flightss.ipynb",
   "provenance": []
  },
  "kernelspec": {
   "display_name": "Python 3 (ipykernel)",
   "language": "python",
   "name": "python3"
  },
  "language_info": {
   "codemirror_mode": {
    "name": "ipython",
    "version": 3
   },
   "file_extension": ".py",
   "mimetype": "text/x-python",
   "name": "python",
   "nbconvert_exporter": "python",
   "pygments_lexer": "ipython3",
   "version": "3.9.12"
  }
 },
 "nbformat": 4,
 "nbformat_minor": 1
}
